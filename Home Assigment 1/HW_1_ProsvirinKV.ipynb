{
 "cells": [
  {
   "cell_type": "markdown",
   "metadata": {},
   "source": [
    "#### Changelog\n",
    "\n",
    "1. Q13.3 How many clams that are wider than 0.4, have first name \"Monster\"?   \n",
    "2. Q13.4 What was the second name of a clam captured at March, 8, that was longer than 0.65 and wider than 0.57?\n",
    "3. Q15.2 Create a new column `area` using diameter, length and considering that a clam is a perfect rectangle.\n",
    "4. Q19.4 `density_by_age` groupby `age_cat` and compute average density of a clam."
   ]
  },
  {
   "cell_type": "markdown",
   "metadata": {
    "id": "4fengSNSWl1X"
   },
   "source": [
    "# Assignment 1. Sea Ears.\n",
    "by Anvar Kurmukov,\n",
    "updated by Bogdan Kirillov\n",
    "\n",
    "---\n",
    "\n",
    "By the end of this task you will be able to manipulate huge tabular data:\n",
    "1. Compute different column's statistics (min, max, mean, quantiles etc.);\n",
    "2. Select observations/features by condition/index;\n",
    "3. Create new non-linear combinations of the columns (feature engineering);\n",
    "4. Perform automated data cleaning;\n",
    "\n",
    "and more.\n",
    "\n",
    "---\n",
    "\n",
    "For those who are not familiar with `pandas` we recommend these (alternative) tutorials:\n",
    "\n",
    "1. Single notebook, covers basic pandas functionality (starting with renaming columns ending with using map, apply etc) ~ 30 short examples with links on videos https://nbviewer.jupyter.org/github/justmarkham/pandas-videos/blob/master/pandas.ipynb . Highly recommended for everyone. (about 1-3 hours to go through)\n",
    "\n",
    "2. https://github.com/guipsamora/pandas_exercises/ 11 topics covering all essential functionality with excersises (with solutions).\n",
    "\n",
    "This task will be an easy ride after these tutorials.\n",
    "\n",
    "---"
   ]
  },
  {
   "cell_type": "markdown",
   "metadata": {
    "id": "zBv4L3BoWtY8"
   },
   "source": [
    "We are using the data on a species of clam called abalone, also known as \"Sea ears\". This dataset is in public domain and can be obtained from Delve: http://www.cs.toronto.edu/~delve/data/abalone/desc.html For this task, we have modified the dataset slightly, so you could try out some complicated data manipulation techniques while keeping the dataset as simple as possible. So, in our case, each abalone clam is a promising rapper who is ready for a debut mixtape.\n",
    "\n",
    "You need to place \"sea_ears.csv\" file in the same directory as this notebook.\n"
   ]
  },
  {
   "cell_type": "code",
   "execution_count": 1,
   "metadata": {
    "id": "rYmsZ_BQWx6a"
   },
   "outputs": [],
   "source": [
    "import numpy as np\n",
    "import pandas as pd"
   ]
  },
  {
   "cell_type": "markdown",
   "metadata": {
    "id": "8mp5vQW5Xtw5"
   },
   "source": [
    "# 1. Loading data\n",
    "\n",
    "As always in Data Science you are starting with making nice cup of tea (or coffee). Your next move is to load the data:\n",
    "\n",
    "- Start with loading `sea_ears.csv` file using `pd.read_csv()` function.\n",
    "- You may also want to increase maximal displayed pandas columns: set `pd.options.display.max_columns` to 30\n",
    "- Print top 10 observations in the table. `.head()`\n",
    "- Print last 10 observations in the table. `.tail()`\n",
    "- Print all the data columns names using method `.columns`\n",
    "- Print data size (number of rows and columns). This is the `.shape` of the data.\n",
    "\n",
    "*Almost* every python has a `head` and a `tail` just as DataFrames do.\n",
    "\n",
    "If you are using Google Colab, you can upload the file in the cell below. If you are NOT using Colab, set COLAB_P in the cell below to False."
   ]
  },
  {
   "cell_type": "code",
   "execution_count": 2,
   "metadata": {
    "colab": {
     "base_uri": "https://localhost:8080/",
     "height": 108,
     "resources": {
      "http://localhost:8080/nbextensions/google.colab/files.js": {
       "data": "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",
       "headers": [
        [
         "content-type",
         "application/javascript"
        ]
       ],
       "ok": true,
       "status": 200,
       "status_text": "OK"
      }
     }
    },
    "id": "KS_2J7IXX9ZS",
    "outputId": "6a5a75dd-4245-4992-8c2b-20275dceb5cc"
   },
   "outputs": [
    {
     "name": "stdout",
     "output_type": "stream",
     "text": [
      "Place your file to the same directory as the notebook, then read your file with pd.read_csv()\n"
     ]
    }
   ],
   "source": [
    "COLAB_P = False\n",
    "if COLAB_P:\n",
    "  print(\"Upload your file, then read it with pd.read_csv()\")\n",
    "  from google.colab import files\n",
    "  uploaded = files.upload()\n",
    "  fn = list(uploaded.keys())[0]\n",
    "  print(\"File is uploaded to \", fn)\n",
    "else:\n",
    "  print(\"Place your file to the same directory as the notebook, then read your file with pd.read_csv()\")"
   ]
  },
  {
   "cell_type": "code",
   "execution_count": 3,
   "metadata": {
    "id": "IMsqdgKrYugR"
   },
   "outputs": [],
   "source": [
    "# Load the data\n",
    "\n",
    "df = pd.read_csv(\"sea_ears.csv\", index_col=0)"
   ]
  },
  {
   "cell_type": "code",
   "execution_count": 4,
   "metadata": {
    "id": "H0P12NdQZPxw"
   },
   "outputs": [
    {
     "data": {
      "text/html": [
       "<div>\n",
       "<style scoped>\n",
       "    .dataframe tbody tr th:only-of-type {\n",
       "        vertical-align: middle;\n",
       "    }\n",
       "\n",
       "    .dataframe tbody tr th {\n",
       "        vertical-align: top;\n",
       "    }\n",
       "\n",
       "    .dataframe thead th {\n",
       "        text-align: right;\n",
       "    }\n",
       "</style>\n",
       "<table border=\"1\" class=\"dataframe\">\n",
       "  <thead>\n",
       "    <tr style=\"text-align: right;\">\n",
       "      <th></th>\n",
       "      <th>id</th>\n",
       "      <th>FN</th>\n",
       "      <th>SN</th>\n",
       "      <th>LN</th>\n",
       "      <th>Captured</th>\n",
       "      <th>Sex</th>\n",
       "      <th>Length</th>\n",
       "      <th>Diam</th>\n",
       "      <th>Height</th>\n",
       "      <th>Whole</th>\n",
       "      <th>Shucke</th>\n",
       "      <th>Viscera</th>\n",
       "      <th>Shell</th>\n",
       "      <th>Rings</th>\n",
       "    </tr>\n",
       "  </thead>\n",
       "  <tbody>\n",
       "    <tr>\n",
       "      <th>0</th>\n",
       "      <td>835</td>\n",
       "      <td>Kid</td>\n",
       "      <td>College</td>\n",
       "      <td>Machine</td>\n",
       "      <td>20200621T000000</td>\n",
       "      <td>I</td>\n",
       "      <td>0.450</td>\n",
       "      <td>0.350</td>\n",
       "      <td>0.130</td>\n",
       "      <td>0.5470</td>\n",
       "      <td>0.2450</td>\n",
       "      <td>0.1405</td>\n",
       "      <td>0.1405</td>\n",
       "      <td>8.0</td>\n",
       "    </tr>\n",
       "    <tr>\n",
       "      <th>1</th>\n",
       "      <td>540</td>\n",
       "      <td>Jalapeno</td>\n",
       "      <td>Glam</td>\n",
       "      <td>Machine</td>\n",
       "      <td>20200308T000000</td>\n",
       "      <td>F</td>\n",
       "      <td>0.500</td>\n",
       "      <td>0.375</td>\n",
       "      <td>0.140</td>\n",
       "      <td>0.6040</td>\n",
       "      <td>0.2420</td>\n",
       "      <td>0.1415</td>\n",
       "      <td>0.1790</td>\n",
       "      <td>15.0</td>\n",
       "    </tr>\n",
       "    <tr>\n",
       "      <th>2</th>\n",
       "      <td>2295</td>\n",
       "      <td>Baby</td>\n",
       "      <td>Full</td>\n",
       "      <td>Killer</td>\n",
       "      <td>20200222T000000</td>\n",
       "      <td>F</td>\n",
       "      <td>0.520</td>\n",
       "      <td>0.415</td>\n",
       "      <td>0.145</td>\n",
       "      <td>0.8045</td>\n",
       "      <td>0.3325</td>\n",
       "      <td>0.1725</td>\n",
       "      <td>0.2850</td>\n",
       "      <td>10.0</td>\n",
       "    </tr>\n",
       "    <tr>\n",
       "      <th>3</th>\n",
       "      <td>858</td>\n",
       "      <td>Kid</td>\n",
       "      <td>Rock</td>\n",
       "      <td>Head</td>\n",
       "      <td>20200222T000000</td>\n",
       "      <td>F</td>\n",
       "      <td>0.595</td>\n",
       "      <td>0.480</td>\n",
       "      <td>0.150</td>\n",
       "      <td>1.1100</td>\n",
       "      <td>0.4980</td>\n",
       "      <td>0.2280</td>\n",
       "      <td>0.3300</td>\n",
       "      <td>10.0</td>\n",
       "    </tr>\n",
       "    <tr>\n",
       "      <th>4</th>\n",
       "      <td>2329</td>\n",
       "      <td>Boy</td>\n",
       "      <td>Block</td>\n",
       "      <td>Death</td>\n",
       "      <td>20201219T000000</td>\n",
       "      <td>I</td>\n",
       "      <td>0.480</td>\n",
       "      <td>0.390</td>\n",
       "      <td>0.145</td>\n",
       "      <td>0.5825</td>\n",
       "      <td>0.2315</td>\n",
       "      <td>0.1210</td>\n",
       "      <td>0.2550</td>\n",
       "      <td>15.0</td>\n",
       "    </tr>\n",
       "    <tr>\n",
       "      <th>5</th>\n",
       "      <td>2648</td>\n",
       "      <td>DJ</td>\n",
       "      <td>Block</td>\n",
       "      <td>Head</td>\n",
       "      <td>20201224T000000</td>\n",
       "      <td>M</td>\n",
       "      <td>0.500</td>\n",
       "      <td>0.380</td>\n",
       "      <td>0.120</td>\n",
       "      <td>0.5765</td>\n",
       "      <td>0.2730</td>\n",
       "      <td>0.1350</td>\n",
       "      <td>0.1450</td>\n",
       "      <td>9.0</td>\n",
       "    </tr>\n",
       "    <tr>\n",
       "      <th>6</th>\n",
       "      <td>3723</td>\n",
       "      <td>Big</td>\n",
       "      <td>Full</td>\n",
       "      <td>Death</td>\n",
       "      <td>20200110T000000</td>\n",
       "      <td>I</td>\n",
       "      <td>0.470</td>\n",
       "      <td>0.355</td>\n",
       "      <td>0.120</td>\n",
       "      <td>0.4915</td>\n",
       "      <td>0.1765</td>\n",
       "      <td>0.1125</td>\n",
       "      <td>0.1325</td>\n",
       "      <td>9.0</td>\n",
       "    </tr>\n",
       "    <tr>\n",
       "      <th>7</th>\n",
       "      <td>251</td>\n",
       "      <td>Dungeon</td>\n",
       "      <td>Glam</td>\n",
       "      <td>Death</td>\n",
       "      <td>20200824T000000</td>\n",
       "      <td>M</td>\n",
       "      <td>0.590</td>\n",
       "      <td>0.470</td>\n",
       "      <td>0.180</td>\n",
       "      <td>1.1235</td>\n",
       "      <td>0.4205</td>\n",
       "      <td>0.2805</td>\n",
       "      <td>0.3600</td>\n",
       "      <td>13.0</td>\n",
       "    </tr>\n",
       "    <tr>\n",
       "      <th>8</th>\n",
       "      <td>1148</td>\n",
       "      <td>MC</td>\n",
       "      <td>College</td>\n",
       "      <td>Machine</td>\n",
       "      <td>20200623T000000</td>\n",
       "      <td>M</td>\n",
       "      <td>0.580</td>\n",
       "      <td>0.450</td>\n",
       "      <td>0.145</td>\n",
       "      <td>1.0025</td>\n",
       "      <td>0.5470</td>\n",
       "      <td>0.1975</td>\n",
       "      <td>0.2295</td>\n",
       "      <td>8.0</td>\n",
       "    </tr>\n",
       "    <tr>\n",
       "      <th>9</th>\n",
       "      <td>1949</td>\n",
       "      <td>Monster</td>\n",
       "      <td>Full</td>\n",
       "      <td>Kitty</td>\n",
       "      <td>20200202T000000</td>\n",
       "      <td>M</td>\n",
       "      <td>0.640</td>\n",
       "      <td>0.530</td>\n",
       "      <td>0.165</td>\n",
       "      <td>1.1895</td>\n",
       "      <td>0.4765</td>\n",
       "      <td>0.3000</td>\n",
       "      <td>0.3500</td>\n",
       "      <td>11.0</td>\n",
       "    </tr>\n",
       "  </tbody>\n",
       "</table>\n",
       "</div>"
      ],
      "text/plain": [
       "     id        FN       SN       LN         Captured Sex  Length   Diam  \\\n",
       "0   835       Kid  College  Machine  20200621T000000   I   0.450  0.350   \n",
       "1   540  Jalapeno     Glam  Machine  20200308T000000   F   0.500  0.375   \n",
       "2  2295      Baby     Full   Killer  20200222T000000   F   0.520  0.415   \n",
       "3   858       Kid     Rock     Head  20200222T000000   F   0.595  0.480   \n",
       "4  2329       Boy    Block    Death  20201219T000000   I   0.480  0.390   \n",
       "5  2648        DJ    Block     Head  20201224T000000   M   0.500  0.380   \n",
       "6  3723       Big     Full    Death  20200110T000000   I   0.470  0.355   \n",
       "7   251   Dungeon     Glam    Death  20200824T000000   M   0.590  0.470   \n",
       "8  1148        MC  College  Machine  20200623T000000   M   0.580  0.450   \n",
       "9  1949   Monster     Full    Kitty  20200202T000000   M   0.640  0.530   \n",
       "\n",
       "   Height   Whole  Shucke  Viscera   Shell  Rings  \n",
       "0   0.130  0.5470  0.2450   0.1405  0.1405    8.0  \n",
       "1   0.140  0.6040  0.2420   0.1415  0.1790   15.0  \n",
       "2   0.145  0.8045  0.3325   0.1725  0.2850   10.0  \n",
       "3   0.150  1.1100  0.4980   0.2280  0.3300   10.0  \n",
       "4   0.145  0.5825  0.2315   0.1210  0.2550   15.0  \n",
       "5   0.120  0.5765  0.2730   0.1350  0.1450    9.0  \n",
       "6   0.120  0.4915  0.1765   0.1125  0.1325    9.0  \n",
       "7   0.180  1.1235  0.4205   0.2805  0.3600   13.0  \n",
       "8   0.145  1.0025  0.5470   0.1975  0.2295    8.0  \n",
       "9   0.165  1.1895  0.4765   0.3000  0.3500   11.0  "
      ]
     },
     "execution_count": 4,
     "metadata": {},
     "output_type": "execute_result"
    }
   ],
   "source": [
    "# Observe top 10 observations (int)\n",
    "df.head(10)"
   ]
  },
  {
   "cell_type": "markdown",
   "metadata": {},
   "source": [
    "### Let's parse my question numbers"
   ]
  },
  {
   "cell_type": "code",
   "execution_count": 5,
   "metadata": {},
   "outputs": [],
   "source": [
    "# question_list = pd.read_csv(\"Student questions 2021 - Sheet1.csv\")"
   ]
  },
  {
   "cell_type": "code",
   "execution_count": 6,
   "metadata": {},
   "outputs": [],
   "source": [
    "# question_list.index = question_list.Student"
   ]
  },
  {
   "cell_type": "code",
   "execution_count": 7,
   "metadata": {},
   "outputs": [],
   "source": [
    "# my_questions = []\n",
    "# for idx, num in enumerate(list(question_list.loc['Prosvirin, Kirill', :])):\n",
    "#     my_questions.append(': '.join(['Q' + str(idx), num]))\n",
    "# my_questions = my_questions[1:]"
   ]
  },
  {
   "cell_type": "code",
   "execution_count": 8,
   "metadata": {
    "scrolled": true
   },
   "outputs": [],
   "source": [
    "# my_questions"
   ]
  },
  {
   "cell_type": "code",
   "execution_count": 9,
   "metadata": {
    "id": "lhow8gCsZUyT"
   },
   "outputs": [],
   "source": [
    "# Q1.1 What is the length of an abalone with id 986?\n",
    "### Q1.2 How many rings the fifth abalone with \"FN\" == \"Fresh\" has?\n",
    "# Q1.3 How many rings the sample with id 67 has?\n",
    "### Q1.4 What is the `Height` of a thirty fourth sample with `Rings` == 10?\n",
    "# Q1.5 How heavy as a whole is the female abalone #6?\n",
    "\n",
    "# Please note that for some questions there are several answers. If that's the \n",
    "# case, show all of them. Also for some, there is none. If so, show the shape \n",
    "# of returned series in your output.\n"
   ]
  },
  {
   "cell_type": "code",
   "execution_count": 10,
   "metadata": {
    "id": "MXEj8wifdVjV"
   },
   "outputs": [
    {
     "data": {
      "text/html": [
       "<div>\n",
       "<style scoped>\n",
       "    .dataframe tbody tr th:only-of-type {\n",
       "        vertical-align: middle;\n",
       "    }\n",
       "\n",
       "    .dataframe tbody tr th {\n",
       "        vertical-align: top;\n",
       "    }\n",
       "\n",
       "    .dataframe thead th {\n",
       "        text-align: right;\n",
       "    }\n",
       "</style>\n",
       "<table border=\"1\" class=\"dataframe\">\n",
       "  <thead>\n",
       "    <tr style=\"text-align: right;\">\n",
       "      <th></th>\n",
       "      <th>id</th>\n",
       "      <th>FN</th>\n",
       "      <th>SN</th>\n",
       "      <th>LN</th>\n",
       "      <th>Captured</th>\n",
       "      <th>Sex</th>\n",
       "      <th>Length</th>\n",
       "      <th>Diam</th>\n",
       "      <th>Height</th>\n",
       "      <th>Whole</th>\n",
       "      <th>Shucke</th>\n",
       "      <th>Viscera</th>\n",
       "      <th>Shell</th>\n",
       "      <th>Rings</th>\n",
       "    </tr>\n",
       "  </thead>\n",
       "  <tbody>\n",
       "    <tr>\n",
       "      <th>0</th>\n",
       "      <td>835</td>\n",
       "      <td>Kid</td>\n",
       "      <td>College</td>\n",
       "      <td>Machine</td>\n",
       "      <td>20200621T000000</td>\n",
       "      <td>I</td>\n",
       "      <td>0.450</td>\n",
       "      <td>0.350</td>\n",
       "      <td>0.130</td>\n",
       "      <td>0.5470</td>\n",
       "      <td>0.2450</td>\n",
       "      <td>0.1405</td>\n",
       "      <td>0.1405</td>\n",
       "      <td>8.0</td>\n",
       "    </tr>\n",
       "    <tr>\n",
       "      <th>1</th>\n",
       "      <td>540</td>\n",
       "      <td>Jalapeno</td>\n",
       "      <td>Glam</td>\n",
       "      <td>Machine</td>\n",
       "      <td>20200308T000000</td>\n",
       "      <td>F</td>\n",
       "      <td>0.500</td>\n",
       "      <td>0.375</td>\n",
       "      <td>0.140</td>\n",
       "      <td>0.6040</td>\n",
       "      <td>0.2420</td>\n",
       "      <td>0.1415</td>\n",
       "      <td>0.1790</td>\n",
       "      <td>15.0</td>\n",
       "    </tr>\n",
       "    <tr>\n",
       "      <th>2</th>\n",
       "      <td>2295</td>\n",
       "      <td>Baby</td>\n",
       "      <td>Full</td>\n",
       "      <td>Killer</td>\n",
       "      <td>20200222T000000</td>\n",
       "      <td>F</td>\n",
       "      <td>0.520</td>\n",
       "      <td>0.415</td>\n",
       "      <td>0.145</td>\n",
       "      <td>0.8045</td>\n",
       "      <td>0.3325</td>\n",
       "      <td>0.1725</td>\n",
       "      <td>0.2850</td>\n",
       "      <td>10.0</td>\n",
       "    </tr>\n",
       "    <tr>\n",
       "      <th>3</th>\n",
       "      <td>858</td>\n",
       "      <td>Kid</td>\n",
       "      <td>Rock</td>\n",
       "      <td>Head</td>\n",
       "      <td>20200222T000000</td>\n",
       "      <td>F</td>\n",
       "      <td>0.595</td>\n",
       "      <td>0.480</td>\n",
       "      <td>0.150</td>\n",
       "      <td>1.1100</td>\n",
       "      <td>0.4980</td>\n",
       "      <td>0.2280</td>\n",
       "      <td>0.3300</td>\n",
       "      <td>10.0</td>\n",
       "    </tr>\n",
       "    <tr>\n",
       "      <th>4</th>\n",
       "      <td>2329</td>\n",
       "      <td>Boy</td>\n",
       "      <td>Block</td>\n",
       "      <td>Death</td>\n",
       "      <td>20201219T000000</td>\n",
       "      <td>I</td>\n",
       "      <td>0.480</td>\n",
       "      <td>0.390</td>\n",
       "      <td>0.145</td>\n",
       "      <td>0.5825</td>\n",
       "      <td>0.2315</td>\n",
       "      <td>0.1210</td>\n",
       "      <td>0.2550</td>\n",
       "      <td>15.0</td>\n",
       "    </tr>\n",
       "  </tbody>\n",
       "</table>\n",
       "</div>"
      ],
      "text/plain": [
       "     id        FN       SN       LN         Captured Sex  Length   Diam  \\\n",
       "0   835       Kid  College  Machine  20200621T000000   I   0.450  0.350   \n",
       "1   540  Jalapeno     Glam  Machine  20200308T000000   F   0.500  0.375   \n",
       "2  2295      Baby     Full   Killer  20200222T000000   F   0.520  0.415   \n",
       "3   858       Kid     Rock     Head  20200222T000000   F   0.595  0.480   \n",
       "4  2329       Boy    Block    Death  20201219T000000   I   0.480  0.390   \n",
       "\n",
       "   Height   Whole  Shucke  Viscera   Shell  Rings  \n",
       "0   0.130  0.5470  0.2450   0.1405  0.1405    8.0  \n",
       "1   0.140  0.6040  0.2420   0.1415  0.1790   15.0  \n",
       "2   0.145  0.8045  0.3325   0.1725  0.2850   10.0  \n",
       "3   0.150  1.1100  0.4980   0.2280  0.3300   10.0  \n",
       "4   0.145  0.5825  0.2315   0.1210  0.2550   15.0  "
      ]
     },
     "execution_count": 10,
     "metadata": {},
     "output_type": "execute_result"
    }
   ],
   "source": [
    "# Observe last 10 observations (int)\n",
    "df.head()"
   ]
  },
  {
   "cell_type": "markdown",
   "metadata": {},
   "source": [
    "### Q1.2"
   ]
  },
  {
   "cell_type": "code",
   "execution_count": 11,
   "metadata": {},
   "outputs": [
    {
     "name": "stdout",
     "output_type": "stream",
     "text": [
      "Q1.2: Number of rings is 8.0\n"
     ]
    }
   ],
   "source": [
    "num_of_rings = df[df['FN'] == 'Fresh'].iloc[4, :].Rings\n",
    "print(f'Q1.2: Number of rings is {num_of_rings}')"
   ]
  },
  {
   "cell_type": "markdown",
   "metadata": {},
   "source": [
    "### Q1.4"
   ]
  },
  {
   "cell_type": "code",
   "execution_count": 12,
   "metadata": {},
   "outputs": [
    {
     "name": "stdout",
     "output_type": "stream",
     "text": [
      "Q1.4: The height is 0.18\n"
     ]
    }
   ],
   "source": [
    "height_34th = df[df['Rings'] == 10].iloc[33].Height\n",
    "print(f'Q1.4: The height is {height_34th}')"
   ]
  },
  {
   "cell_type": "code",
   "execution_count": null,
   "metadata": {},
   "outputs": [],
   "source": []
  },
  {
   "cell_type": "code",
   "execution_count": null,
   "metadata": {},
   "outputs": [],
   "source": []
  },
  {
   "cell_type": "code",
   "execution_count": 13,
   "metadata": {
    "id": "_ahNTahGdNhT"
   },
   "outputs": [],
   "source": [
    "### Q2.1 What is the diameter of a tenth abalone with second name Flow?\n",
    "### Q2.2 What is the weight of a shell for 99-th abalone with first name Lil'?\n",
    "# Q2.3 How many rings twelfth abalone with first name MC' has?\n",
    "# Q2.4 How many rings the 666-th abalone has?\n",
    "# Q2.5 What is the gender of 1337-th abalone?"
   ]
  },
  {
   "cell_type": "code",
   "execution_count": 14,
   "metadata": {
    "id": "rlx4DfDsdku4"
   },
   "outputs": [],
   "source": [
    "# Increase maximal displayed columns\n",
    "pd.options.display.max_columns = 30"
   ]
  },
  {
   "cell_type": "code",
   "execution_count": 15,
   "metadata": {
    "id": "iFRAlFOYdm9A"
   },
   "outputs": [
    {
     "data": {
      "text/html": [
       "<div>\n",
       "<style scoped>\n",
       "    .dataframe tbody tr th:only-of-type {\n",
       "        vertical-align: middle;\n",
       "    }\n",
       "\n",
       "    .dataframe tbody tr th {\n",
       "        vertical-align: top;\n",
       "    }\n",
       "\n",
       "    .dataframe thead th {\n",
       "        text-align: right;\n",
       "    }\n",
       "</style>\n",
       "<table border=\"1\" class=\"dataframe\">\n",
       "  <thead>\n",
       "    <tr style=\"text-align: right;\">\n",
       "      <th></th>\n",
       "      <th>id</th>\n",
       "      <th>FN</th>\n",
       "      <th>SN</th>\n",
       "      <th>LN</th>\n",
       "      <th>Captured</th>\n",
       "      <th>Sex</th>\n",
       "      <th>Length</th>\n",
       "      <th>Diam</th>\n",
       "      <th>Height</th>\n",
       "      <th>Whole</th>\n",
       "      <th>Shucke</th>\n",
       "      <th>Viscera</th>\n",
       "      <th>Shell</th>\n",
       "      <th>Rings</th>\n",
       "    </tr>\n",
       "  </thead>\n",
       "  <tbody>\n",
       "    <tr>\n",
       "      <th>0</th>\n",
       "      <td>835</td>\n",
       "      <td>Kid</td>\n",
       "      <td>College</td>\n",
       "      <td>Machine</td>\n",
       "      <td>20200621T000000</td>\n",
       "      <td>I</td>\n",
       "      <td>0.450</td>\n",
       "      <td>0.350</td>\n",
       "      <td>0.130</td>\n",
       "      <td>0.5470</td>\n",
       "      <td>0.2450</td>\n",
       "      <td>0.1405</td>\n",
       "      <td>0.1405</td>\n",
       "      <td>8.0</td>\n",
       "    </tr>\n",
       "    <tr>\n",
       "      <th>1</th>\n",
       "      <td>540</td>\n",
       "      <td>Jalapeno</td>\n",
       "      <td>Glam</td>\n",
       "      <td>Machine</td>\n",
       "      <td>20200308T000000</td>\n",
       "      <td>F</td>\n",
       "      <td>0.500</td>\n",
       "      <td>0.375</td>\n",
       "      <td>0.140</td>\n",
       "      <td>0.6040</td>\n",
       "      <td>0.2420</td>\n",
       "      <td>0.1415</td>\n",
       "      <td>0.1790</td>\n",
       "      <td>15.0</td>\n",
       "    </tr>\n",
       "    <tr>\n",
       "      <th>2</th>\n",
       "      <td>2295</td>\n",
       "      <td>Baby</td>\n",
       "      <td>Full</td>\n",
       "      <td>Killer</td>\n",
       "      <td>20200222T000000</td>\n",
       "      <td>F</td>\n",
       "      <td>0.520</td>\n",
       "      <td>0.415</td>\n",
       "      <td>0.145</td>\n",
       "      <td>0.8045</td>\n",
       "      <td>0.3325</td>\n",
       "      <td>0.1725</td>\n",
       "      <td>0.2850</td>\n",
       "      <td>10.0</td>\n",
       "    </tr>\n",
       "    <tr>\n",
       "      <th>3</th>\n",
       "      <td>858</td>\n",
       "      <td>Kid</td>\n",
       "      <td>Rock</td>\n",
       "      <td>Head</td>\n",
       "      <td>20200222T000000</td>\n",
       "      <td>F</td>\n",
       "      <td>0.595</td>\n",
       "      <td>0.480</td>\n",
       "      <td>0.150</td>\n",
       "      <td>1.1100</td>\n",
       "      <td>0.4980</td>\n",
       "      <td>0.2280</td>\n",
       "      <td>0.3300</td>\n",
       "      <td>10.0</td>\n",
       "    </tr>\n",
       "    <tr>\n",
       "      <th>4</th>\n",
       "      <td>2329</td>\n",
       "      <td>Boy</td>\n",
       "      <td>Block</td>\n",
       "      <td>Death</td>\n",
       "      <td>20201219T000000</td>\n",
       "      <td>I</td>\n",
       "      <td>0.480</td>\n",
       "      <td>0.390</td>\n",
       "      <td>0.145</td>\n",
       "      <td>0.5825</td>\n",
       "      <td>0.2315</td>\n",
       "      <td>0.1210</td>\n",
       "      <td>0.2550</td>\n",
       "      <td>15.0</td>\n",
       "    </tr>\n",
       "    <tr>\n",
       "      <th>5</th>\n",
       "      <td>2648</td>\n",
       "      <td>DJ</td>\n",
       "      <td>Block</td>\n",
       "      <td>Head</td>\n",
       "      <td>20201224T000000</td>\n",
       "      <td>M</td>\n",
       "      <td>0.500</td>\n",
       "      <td>0.380</td>\n",
       "      <td>0.120</td>\n",
       "      <td>0.5765</td>\n",
       "      <td>0.2730</td>\n",
       "      <td>0.1350</td>\n",
       "      <td>0.1450</td>\n",
       "      <td>9.0</td>\n",
       "    </tr>\n",
       "    <tr>\n",
       "      <th>6</th>\n",
       "      <td>3723</td>\n",
       "      <td>Big</td>\n",
       "      <td>Full</td>\n",
       "      <td>Death</td>\n",
       "      <td>20200110T000000</td>\n",
       "      <td>I</td>\n",
       "      <td>0.470</td>\n",
       "      <td>0.355</td>\n",
       "      <td>0.120</td>\n",
       "      <td>0.4915</td>\n",
       "      <td>0.1765</td>\n",
       "      <td>0.1125</td>\n",
       "      <td>0.1325</td>\n",
       "      <td>9.0</td>\n",
       "    </tr>\n",
       "    <tr>\n",
       "      <th>7</th>\n",
       "      <td>251</td>\n",
       "      <td>Dungeon</td>\n",
       "      <td>Glam</td>\n",
       "      <td>Death</td>\n",
       "      <td>20200824T000000</td>\n",
       "      <td>M</td>\n",
       "      <td>0.590</td>\n",
       "      <td>0.470</td>\n",
       "      <td>0.180</td>\n",
       "      <td>1.1235</td>\n",
       "      <td>0.4205</td>\n",
       "      <td>0.2805</td>\n",
       "      <td>0.3600</td>\n",
       "      <td>13.0</td>\n",
       "    </tr>\n",
       "    <tr>\n",
       "      <th>8</th>\n",
       "      <td>1148</td>\n",
       "      <td>MC</td>\n",
       "      <td>College</td>\n",
       "      <td>Machine</td>\n",
       "      <td>20200623T000000</td>\n",
       "      <td>M</td>\n",
       "      <td>0.580</td>\n",
       "      <td>0.450</td>\n",
       "      <td>0.145</td>\n",
       "      <td>1.0025</td>\n",
       "      <td>0.5470</td>\n",
       "      <td>0.1975</td>\n",
       "      <td>0.2295</td>\n",
       "      <td>8.0</td>\n",
       "    </tr>\n",
       "    <tr>\n",
       "      <th>9</th>\n",
       "      <td>1949</td>\n",
       "      <td>Monster</td>\n",
       "      <td>Full</td>\n",
       "      <td>Kitty</td>\n",
       "      <td>20200202T000000</td>\n",
       "      <td>M</td>\n",
       "      <td>0.640</td>\n",
       "      <td>0.530</td>\n",
       "      <td>0.165</td>\n",
       "      <td>1.1895</td>\n",
       "      <td>0.4765</td>\n",
       "      <td>0.3000</td>\n",
       "      <td>0.3500</td>\n",
       "      <td>11.0</td>\n",
       "    </tr>\n",
       "  </tbody>\n",
       "</table>\n",
       "</div>"
      ],
      "text/plain": [
       "     id        FN       SN       LN         Captured Sex  Length   Diam  \\\n",
       "0   835       Kid  College  Machine  20200621T000000   I   0.450  0.350   \n",
       "1   540  Jalapeno     Glam  Machine  20200308T000000   F   0.500  0.375   \n",
       "2  2295      Baby     Full   Killer  20200222T000000   F   0.520  0.415   \n",
       "3   858       Kid     Rock     Head  20200222T000000   F   0.595  0.480   \n",
       "4  2329       Boy    Block    Death  20201219T000000   I   0.480  0.390   \n",
       "5  2648        DJ    Block     Head  20201224T000000   M   0.500  0.380   \n",
       "6  3723       Big     Full    Death  20200110T000000   I   0.470  0.355   \n",
       "7   251   Dungeon     Glam    Death  20200824T000000   M   0.590  0.470   \n",
       "8  1148        MC  College  Machine  20200623T000000   M   0.580  0.450   \n",
       "9  1949   Monster     Full    Kitty  20200202T000000   M   0.640  0.530   \n",
       "\n",
       "   Height   Whole  Shucke  Viscera   Shell  Rings  \n",
       "0   0.130  0.5470  0.2450   0.1405  0.1405    8.0  \n",
       "1   0.140  0.6040  0.2420   0.1415  0.1790   15.0  \n",
       "2   0.145  0.8045  0.3325   0.1725  0.2850   10.0  \n",
       "3   0.150  1.1100  0.4980   0.2280  0.3300   10.0  \n",
       "4   0.145  0.5825  0.2315   0.1210  0.2550   15.0  \n",
       "5   0.120  0.5765  0.2730   0.1350  0.1450    9.0  \n",
       "6   0.120  0.4915  0.1765   0.1125  0.1325    9.0  \n",
       "7   0.180  1.1235  0.4205   0.2805  0.3600   13.0  \n",
       "8   0.145  1.0025  0.5470   0.1975  0.2295    8.0  \n",
       "9   0.165  1.1895  0.4765   0.3000  0.3500   11.0  "
      ]
     },
     "execution_count": 15,
     "metadata": {},
     "output_type": "execute_result"
    }
   ],
   "source": [
    "# Observe top 10 observations again\n",
    "# Is there any new columns displayed?\n",
    "df.head(10)"
   ]
  },
  {
   "cell_type": "code",
   "execution_count": 16,
   "metadata": {
    "id": "Zui3i6ZOdo2D"
   },
   "outputs": [
    {
     "name": "stdout",
     "output_type": "stream",
     "text": [
      "['id', 'FN', 'SN', 'LN', 'Captured', 'Sex', 'Length', 'Diam', 'Height', 'Whole', 'Shucke', 'Viscera', 'Shell', 'Rings']\n"
     ]
    }
   ],
   "source": [
    "# Print all the columns/features names (int)\n",
    "print(list(df))"
   ]
  },
  {
   "cell_type": "markdown",
   "metadata": {},
   "source": [
    "### Q2.1"
   ]
  },
  {
   "cell_type": "code",
   "execution_count": 17,
   "metadata": {},
   "outputs": [
    {
     "name": "stdout",
     "output_type": "stream",
     "text": [
      "Q2.1: Diameter is 0.4515932810213069\n"
     ]
    }
   ],
   "source": [
    "diameter = df[df['SN'] == 'Flow'].iloc[9].Diam\n",
    "print(f'Q2.1: Diameter is {diameter}')"
   ]
  },
  {
   "cell_type": "markdown",
   "metadata": {},
   "source": [
    "### Q2.2"
   ]
  },
  {
   "cell_type": "code",
   "execution_count": 18,
   "metadata": {},
   "outputs": [
    {
     "name": "stdout",
     "output_type": "stream",
     "text": [
      "Q2.2: Weight of the shell is 0.22\n"
     ]
    }
   ],
   "source": [
    "shell_weight = df[df['FN'] == 'Lil\\''].iloc[98].Shell\n",
    "print(f'Q2.2: Weight of the shell is {shell_weight}')"
   ]
  },
  {
   "cell_type": "code",
   "execution_count": 19,
   "metadata": {},
   "outputs": [
    {
     "data": {
      "text/html": [
       "<div>\n",
       "<style scoped>\n",
       "    .dataframe tbody tr th:only-of-type {\n",
       "        vertical-align: middle;\n",
       "    }\n",
       "\n",
       "    .dataframe tbody tr th {\n",
       "        vertical-align: top;\n",
       "    }\n",
       "\n",
       "    .dataframe thead th {\n",
       "        text-align: right;\n",
       "    }\n",
       "</style>\n",
       "<table border=\"1\" class=\"dataframe\">\n",
       "  <thead>\n",
       "    <tr style=\"text-align: right;\">\n",
       "      <th></th>\n",
       "      <th>id</th>\n",
       "      <th>FN</th>\n",
       "      <th>SN</th>\n",
       "      <th>LN</th>\n",
       "      <th>Captured</th>\n",
       "      <th>Sex</th>\n",
       "      <th>Length</th>\n",
       "      <th>Diam</th>\n",
       "      <th>Height</th>\n",
       "      <th>Whole</th>\n",
       "      <th>Shucke</th>\n",
       "      <th>Viscera</th>\n",
       "      <th>Shell</th>\n",
       "      <th>Rings</th>\n",
       "    </tr>\n",
       "  </thead>\n",
       "  <tbody>\n",
       "    <tr>\n",
       "      <th>2001</th>\n",
       "      <td>99</td>\n",
       "      <td>Baby</td>\n",
       "      <td>College</td>\n",
       "      <td>Machine</td>\n",
       "      <td>20201106T000000</td>\n",
       "      <td>F</td>\n",
       "      <td>0.475</td>\n",
       "      <td>0.375</td>\n",
       "      <td>0.125</td>\n",
       "      <td>0.5785</td>\n",
       "      <td>0.2775</td>\n",
       "      <td>0.085</td>\n",
       "      <td>0.155</td>\n",
       "      <td>10.0</td>\n",
       "    </tr>\n",
       "  </tbody>\n",
       "</table>\n",
       "</div>"
      ],
      "text/plain": [
       "      id    FN       SN       LN         Captured Sex  Length   Diam  Height  \\\n",
       "2001  99  Baby  College  Machine  20201106T000000   F   0.475  0.375   0.125   \n",
       "\n",
       "       Whole  Shucke  Viscera  Shell  Rings  \n",
       "2001  0.5785  0.2775    0.085  0.155   10.0  "
      ]
     },
     "execution_count": 19,
     "metadata": {},
     "output_type": "execute_result"
    }
   ],
   "source": [
    "df[df.id == 99]"
   ]
  },
  {
   "cell_type": "code",
   "execution_count": null,
   "metadata": {},
   "outputs": [],
   "source": []
  },
  {
   "cell_type": "code",
   "execution_count": 20,
   "metadata": {
    "id": "QwPaHlDhuklP"
   },
   "outputs": [],
   "source": [
    "### Q3.1 How many columns end with a vowel?\n",
    "# Q3.2 How many columns start with a vowel?\n",
    "### Q3.3 Which columns are associated with the weight of the clam? \n",
    "### Как я понимаю, смысл этого задания был в поиске подстроки weight в исходных колонках. \n",
    "### Но, видимо, при обработке датасета вы оставили только Whole, Shucke, Viscera, Shell)))\n",
    "# Q3.4 How many columns have `th` in their names?"
   ]
  },
  {
   "cell_type": "markdown",
   "metadata": {},
   "source": [
    "**Примечание.** Сделаем вид, что тут нормальные колонки:"
   ]
  },
  {
   "cell_type": "code",
   "execution_count": 21,
   "metadata": {},
   "outputs": [],
   "source": [
    "df.columns = ['id', 'FN', 'SN', 'LN', 'Captured', 'Sex', 'Length', 'Diam', 'Height',\n",
    "       'Whole_weight', 'Shucke_weight', 'Viscera_weight', 'Shell_weight', 'Rings']"
   ]
  },
  {
   "cell_type": "markdown",
   "metadata": {},
   "source": [
    "### Q3.1"
   ]
  },
  {
   "cell_type": "code",
   "execution_count": 22,
   "metadata": {},
   "outputs": [],
   "source": [
    "import re"
   ]
  },
  {
   "cell_type": "code",
   "execution_count": 23,
   "metadata": {},
   "outputs": [],
   "source": [
    "end_vowel_num = 0\n",
    "for col in list(df):\n",
    "    result = re.search('[aeiou]$', col)\n",
    "    if result is not None:\n",
    "        end_vowel_num += 1"
   ]
  },
  {
   "cell_type": "code",
   "execution_count": 24,
   "metadata": {},
   "outputs": [
    {
     "name": "stdout",
     "output_type": "stream",
     "text": [
      "Q3.1: The number of columns end with a vowel is 0\n"
     ]
    }
   ],
   "source": [
    "print(f'Q3.1: The number of columns end with a vowel is {end_vowel_num}')"
   ]
  },
  {
   "cell_type": "markdown",
   "metadata": {},
   "source": [
    "### Q3.2"
   ]
  },
  {
   "cell_type": "code",
   "execution_count": 25,
   "metadata": {},
   "outputs": [],
   "source": [
    "weight_col_num = []\n",
    "for col in list(df):\n",
    "    result = re.search(r'weight', col)\n",
    "    if result is not None:\n",
    "        weight_col_num.append(col)"
   ]
  },
  {
   "cell_type": "code",
   "execution_count": 26,
   "metadata": {},
   "outputs": [
    {
     "name": "stdout",
     "output_type": "stream",
     "text": [
      "Q3.1: The columns are associated with the weight is ['Whole_weight', 'Shucke_weight', 'Viscera_weight', 'Shell_weight']\n"
     ]
    }
   ],
   "source": [
    "print(f'Q3.1: The columns are associated with the weight is {weight_col_num}')"
   ]
  },
  {
   "cell_type": "code",
   "execution_count": null,
   "metadata": {},
   "outputs": [],
   "source": []
  },
  {
   "cell_type": "code",
   "execution_count": null,
   "metadata": {},
   "outputs": [],
   "source": []
  },
  {
   "cell_type": "code",
   "execution_count": 27,
   "metadata": {
    "id": "Ka8e4hmZdqLp"
   },
   "outputs": [],
   "source": [
    "# Print data size (int)\n",
    "\n",
    "# Q4.1 How many observations are in the data?\n",
    "# Q4.2 How many features are in the data?"
   ]
  },
  {
   "cell_type": "markdown",
   "metadata": {},
   "source": [
    "### Q4.1"
   ]
  },
  {
   "cell_type": "code",
   "execution_count": 28,
   "metadata": {},
   "outputs": [
    {
     "name": "stdout",
     "output_type": "stream",
     "text": [
      "Amount of observations is 5700\n"
     ]
    }
   ],
   "source": [
    "print(f'Amount of observations is {len(df)}')"
   ]
  },
  {
   "cell_type": "markdown",
   "metadata": {},
   "source": [
    "### Q4.2"
   ]
  },
  {
   "cell_type": "code",
   "execution_count": 29,
   "metadata": {},
   "outputs": [
    {
     "name": "stdout",
     "output_type": "stream",
     "text": [
      "Amount of features is 14\n"
     ]
    }
   ],
   "source": [
    "print(f'Amount of features is {len(list(df))}')"
   ]
  },
  {
   "cell_type": "code",
   "execution_count": null,
   "metadata": {},
   "outputs": [],
   "source": []
  },
  {
   "cell_type": "code",
   "execution_count": null,
   "metadata": {},
   "outputs": [],
   "source": []
  },
  {
   "cell_type": "markdown",
   "metadata": {
    "id": "RWqFpMWPdy3E"
   },
   "source": [
    "# 2. Basic data exploration\n",
    "\n",
    "Lets do some basics:\n",
    "\n",
    "`.count()` number of not NaN's in every column.\n",
    "    \n",
    "Is there any missing values in the data?     \n",
    "Count number of unique values in every column .nunique().    \n",
    "What does this tells you about the features, which are most likely categorical and which are most likely numerical?    \n",
    "Use pandas `.describe()` to display basic statistic about the data.   \n",
    "Use pandas `.value_counts()` to count number of unique values in a specific column.   \n",
    "Use pandas `.min()`, `.max()`, `.mean()`, `.std()` to display specific statistics about the data.    \n",
    "Use pandas `.dtypes` field to display data types in columns. \n",
    "Hint You could use `.sort_index()` or `.sort_values()` to sort the result of `.value_counts()`\n"
   ]
  },
  {
   "cell_type": "code",
   "execution_count": 30,
   "metadata": {
    "id": "pwlcBdvIwlfB"
   },
   "outputs": [],
   "source": [
    "# Display number of not NaN's in every column (int)\n",
    "\n",
    "### Q5.1 How many NA values are in the `Whole` column?\n",
    "# Q5.2 How many NA values are in the `Rings` column?\n",
    "# Q5.3 How many NA values are in the `Viscera` column?\n",
    "### Q5.4 How many NA values are in the `FN` column?\n",
    "# Q5.5 How many explicit NA values are in the `Shell` column?"
   ]
  },
  {
   "cell_type": "markdown",
   "metadata": {},
   "source": [
    "### Q5.1"
   ]
  },
  {
   "cell_type": "code",
   "execution_count": 31,
   "metadata": {},
   "outputs": [
    {
     "name": "stdout",
     "output_type": "stream",
     "text": [
      "Amount of NA in Whole column is 13\n"
     ]
    }
   ],
   "source": [
    "print(f'Amount of NA in Whole column is {df.Whole_weight.isna().sum()}')"
   ]
  },
  {
   "cell_type": "markdown",
   "metadata": {},
   "source": [
    "### Q5.4"
   ]
  },
  {
   "cell_type": "code",
   "execution_count": 32,
   "metadata": {},
   "outputs": [
    {
     "name": "stdout",
     "output_type": "stream",
     "text": [
      "Amount of NA in FN column is 0\n"
     ]
    }
   ],
   "source": [
    "print(f'Amount of NA in FN column is {df.FN.isna().sum()}')"
   ]
  },
  {
   "cell_type": "code",
   "execution_count": null,
   "metadata": {},
   "outputs": [],
   "source": []
  },
  {
   "cell_type": "code",
   "execution_count": null,
   "metadata": {},
   "outputs": [],
   "source": []
  },
  {
   "cell_type": "code",
   "execution_count": 33,
   "metadata": {
    "id": "uCxMUIbnx-QD"
   },
   "outputs": [],
   "source": [
    "# Count number of unique values in every column (int)\n",
    "\n",
    "# Q6.1 How many unique values are in the `FN` column?\n",
    "# Q6.2 How many unique values are in the `SN` column?\n",
    "# Q6.3 How many unique values are in the `Rings` column?\n",
    "### Q6.4 How many unique values are in the `Viscera` column?\n",
    "### Q6.5 How many unique values are in the `Shell` column?"
   ]
  },
  {
   "cell_type": "markdown",
   "metadata": {},
   "source": [
    "### Q6.4"
   ]
  },
  {
   "cell_type": "code",
   "execution_count": 34,
   "metadata": {},
   "outputs": [
    {
     "data": {
      "text/plain": [
       "1861"
      ]
     },
     "execution_count": 34,
     "metadata": {},
     "output_type": "execute_result"
    }
   ],
   "source": [
    "df.Viscera_weight.nunique()"
   ]
  },
  {
   "cell_type": "markdown",
   "metadata": {},
   "source": [
    "### Q6.5"
   ]
  },
  {
   "cell_type": "code",
   "execution_count": 35,
   "metadata": {},
   "outputs": [
    {
     "data": {
      "text/plain": [
       "1687"
      ]
     },
     "execution_count": 35,
     "metadata": {},
     "output_type": "execute_result"
    }
   ],
   "source": [
    "df.Shell_weight.nunique()"
   ]
  },
  {
   "cell_type": "code",
   "execution_count": null,
   "metadata": {},
   "outputs": [],
   "source": []
  },
  {
   "cell_type": "code",
   "execution_count": null,
   "metadata": {},
   "outputs": [],
   "source": []
  },
  {
   "cell_type": "code",
   "execution_count": 36,
   "metadata": {
    "id": "fPJMcqYQyD9y"
   },
   "outputs": [],
   "source": [
    "# Count frequency of the values in different columns (list of ints in ascending order)\n",
    "# You could select a column using same syntax as for selecting \n",
    "# a key from a dictionary: `data[colname]\n",
    "\n",
    "# Q7.1 For every unique `FN` value give its number of occurences.\n",
    "### Q7.2 For every unique `SN` value give its number of occurences.\n",
    "# Q7.3 For every unique `Rings` value give its number of occurences.\n",
    "### Q7.4 For every unique `Sex` value give its number of occurences.\n",
    "# Q7.5 For every unique `LN` value give its number of occurences."
   ]
  },
  {
   "cell_type": "markdown",
   "metadata": {},
   "source": [
    "### Q7.2"
   ]
  },
  {
   "cell_type": "code",
   "execution_count": 37,
   "metadata": {},
   "outputs": [],
   "source": [
    "unique_fn = df.groupby('SN').aggregate({'SN': 'count'}).rename(columns={'SN': 'number of occurences'})\n",
    "unique_fn = unique_fn.sort_values('number of occurences')"
   ]
  },
  {
   "cell_type": "code",
   "execution_count": 38,
   "metadata": {},
   "outputs": [
    {
     "data": {
      "text/plain": [
       "{'Glam': 684,\n",
       " 'Glock': 690,\n",
       " 'Full': 707,\n",
       " 'Breeze': 709,\n",
       " 'College': 709,\n",
       " 'Block': 711,\n",
       " 'Rock': 713,\n",
       " 'Flow': 777}"
      ]
     },
     "execution_count": 38,
     "metadata": {},
     "output_type": "execute_result"
    }
   ],
   "source": [
    "unique_fn_dct = unique_fn.to_dict()['number of occurences']\n",
    "unique_fn_dct"
   ]
  },
  {
   "cell_type": "markdown",
   "metadata": {},
   "source": [
    "### Q7.4"
   ]
  },
  {
   "cell_type": "code",
   "execution_count": 39,
   "metadata": {},
   "outputs": [],
   "source": [
    "unique_sex = df.groupby('Sex').aggregate({'Sex': 'count'}).rename(columns={'Sex': 'number of occurences'})\n",
    "unique_sex = unique_sex.sort_values('number of occurences')"
   ]
  },
  {
   "cell_type": "code",
   "execution_count": 40,
   "metadata": {},
   "outputs": [
    {
     "data": {
      "text/plain": [
       "{'F': 1775, 'I': 1849, 'M': 2076}"
      ]
     },
     "execution_count": 40,
     "metadata": {},
     "output_type": "execute_result"
    }
   ],
   "source": [
    "unique_sex_dct = unique_sex.to_dict()['number of occurences']\n",
    "unique_sex_dct"
   ]
  },
  {
   "cell_type": "code",
   "execution_count": null,
   "metadata": {},
   "outputs": [],
   "source": []
  },
  {
   "cell_type": "code",
   "execution_count": null,
   "metadata": {},
   "outputs": [],
   "source": []
  },
  {
   "cell_type": "code",
   "execution_count": 41,
   "metadata": {
    "id": "bo6KibQ3x4Jw"
   },
   "outputs": [
    {
     "data": {
      "text/html": [
       "<div>\n",
       "<style scoped>\n",
       "    .dataframe tbody tr th:only-of-type {\n",
       "        vertical-align: middle;\n",
       "    }\n",
       "\n",
       "    .dataframe tbody tr th {\n",
       "        vertical-align: top;\n",
       "    }\n",
       "\n",
       "    .dataframe thead th {\n",
       "        text-align: right;\n",
       "    }\n",
       "</style>\n",
       "<table border=\"1\" class=\"dataframe\">\n",
       "  <thead>\n",
       "    <tr style=\"text-align: right;\">\n",
       "      <th></th>\n",
       "      <th>id</th>\n",
       "      <th>Length</th>\n",
       "      <th>Diam</th>\n",
       "      <th>Height</th>\n",
       "      <th>Whole_weight</th>\n",
       "      <th>Shucke_weight</th>\n",
       "      <th>Viscera_weight</th>\n",
       "      <th>Shell_weight</th>\n",
       "      <th>Rings</th>\n",
       "    </tr>\n",
       "  </thead>\n",
       "  <tbody>\n",
       "    <tr>\n",
       "      <th>count</th>\n",
       "      <td>5700.000000</td>\n",
       "      <td>5545.000000</td>\n",
       "      <td>5079.000000</td>\n",
       "      <td>4931.000000</td>\n",
       "      <td>5687.000000</td>\n",
       "      <td>4334.000000</td>\n",
       "      <td>5158.000000</td>\n",
       "      <td>4938.000000</td>\n",
       "      <td>4960.000000</td>\n",
       "    </tr>\n",
       "    <tr>\n",
       "      <th>mean</th>\n",
       "      <td>2849.500000</td>\n",
       "      <td>0.547853</td>\n",
       "      <td>0.424571</td>\n",
       "      <td>0.154530</td>\n",
       "      <td>0.849702</td>\n",
       "      <td>0.361736</td>\n",
       "      <td>0.198908</td>\n",
       "      <td>0.253074</td>\n",
       "      <td>9.826613</td>\n",
       "    </tr>\n",
       "    <tr>\n",
       "      <th>std</th>\n",
       "      <td>1645.592598</td>\n",
       "      <td>0.130588</td>\n",
       "      <td>0.108177</td>\n",
       "      <td>0.059298</td>\n",
       "      <td>0.493289</td>\n",
       "      <td>0.222923</td>\n",
       "      <td>0.118113</td>\n",
       "      <td>0.145495</td>\n",
       "      <td>3.378726</td>\n",
       "    </tr>\n",
       "    <tr>\n",
       "      <th>min</th>\n",
       "      <td>0.000000</td>\n",
       "      <td>0.075000</td>\n",
       "      <td>0.055000</td>\n",
       "      <td>0.000000</td>\n",
       "      <td>0.002000</td>\n",
       "      <td>0.001000</td>\n",
       "      <td>0.000500</td>\n",
       "      <td>0.001500</td>\n",
       "      <td>0.000000</td>\n",
       "    </tr>\n",
       "    <tr>\n",
       "      <th>25%</th>\n",
       "      <td>1424.750000</td>\n",
       "      <td>0.465000</td>\n",
       "      <td>0.355000</td>\n",
       "      <td>0.120000</td>\n",
       "      <td>0.458250</td>\n",
       "      <td>0.188125</td>\n",
       "      <td>0.106154</td>\n",
       "      <td>0.140500</td>\n",
       "      <td>8.000000</td>\n",
       "    </tr>\n",
       "    <tr>\n",
       "      <th>50%</th>\n",
       "      <td>2849.500000</td>\n",
       "      <td>0.561707</td>\n",
       "      <td>0.435000</td>\n",
       "      <td>0.150000</td>\n",
       "      <td>0.816500</td>\n",
       "      <td>0.338750</td>\n",
       "      <td>0.188687</td>\n",
       "      <td>0.245000</td>\n",
       "      <td>9.000000</td>\n",
       "    </tr>\n",
       "    <tr>\n",
       "      <th>75%</th>\n",
       "      <td>4274.250000</td>\n",
       "      <td>0.635000</td>\n",
       "      <td>0.500000</td>\n",
       "      <td>0.176963</td>\n",
       "      <td>1.177500</td>\n",
       "      <td>0.504000</td>\n",
       "      <td>0.274500</td>\n",
       "      <td>0.345000</td>\n",
       "      <td>11.000000</td>\n",
       "    </tr>\n",
       "    <tr>\n",
       "      <th>max</th>\n",
       "      <td>5699.000000</td>\n",
       "      <td>0.968190</td>\n",
       "      <td>0.794032</td>\n",
       "      <td>1.130000</td>\n",
       "      <td>2.875274</td>\n",
       "      <td>1.488000</td>\n",
       "      <td>0.760000</td>\n",
       "      <td>1.044635</td>\n",
       "      <td>29.000000</td>\n",
       "    </tr>\n",
       "  </tbody>\n",
       "</table>\n",
       "</div>"
      ],
      "text/plain": [
       "                id       Length         Diam       Height  Whole_weight  \\\n",
       "count  5700.000000  5545.000000  5079.000000  4931.000000   5687.000000   \n",
       "mean   2849.500000     0.547853     0.424571     0.154530      0.849702   \n",
       "std    1645.592598     0.130588     0.108177     0.059298      0.493289   \n",
       "min       0.000000     0.075000     0.055000     0.000000      0.002000   \n",
       "25%    1424.750000     0.465000     0.355000     0.120000      0.458250   \n",
       "50%    2849.500000     0.561707     0.435000     0.150000      0.816500   \n",
       "75%    4274.250000     0.635000     0.500000     0.176963      1.177500   \n",
       "max    5699.000000     0.968190     0.794032     1.130000      2.875274   \n",
       "\n",
       "       Shucke_weight  Viscera_weight  Shell_weight        Rings  \n",
       "count    4334.000000     5158.000000   4938.000000  4960.000000  \n",
       "mean        0.361736        0.198908      0.253074     9.826613  \n",
       "std         0.222923        0.118113      0.145495     3.378726  \n",
       "min         0.001000        0.000500      0.001500     0.000000  \n",
       "25%         0.188125        0.106154      0.140500     8.000000  \n",
       "50%         0.338750        0.188687      0.245000     9.000000  \n",
       "75%         0.504000        0.274500      0.345000    11.000000  \n",
       "max         1.488000        0.760000      1.044635    29.000000  "
      ]
     },
     "execution_count": 41,
     "metadata": {},
     "output_type": "execute_result"
    }
   ],
   "source": [
    "# Display basic data statistics using .describe()\n",
    "df.describe()"
   ]
  },
  {
   "cell_type": "code",
   "execution_count": 42,
   "metadata": {
    "id": "9vIOZuv7yErp"
   },
   "outputs": [],
   "source": [
    "# Display some column statistics (list of floats, rounded up to 3 digits, e.g. 1.234)\n",
    "\n",
    "### Q8.1 What are the max, min, mean and the std of the `Viscera` column?\n",
    "# Q8.2 What are the max, min, mean and the std of the `Rings` column?\n",
    "# Q8.3 What are the max, min, mean and the std of the `Length` column?\n",
    "### Q8.4 What are the max, min, mean and the std of the `Diam` column?\n",
    "# Q8.5 What are the max, min, mean and the std of the `Whole` column?\n"
   ]
  },
  {
   "cell_type": "markdown",
   "metadata": {},
   "source": [
    "### Q8.1"
   ]
  },
  {
   "cell_type": "code",
   "execution_count": 43,
   "metadata": {},
   "outputs": [
    {
     "data": {
      "text/plain": [
       "{'count': 5158.0,\n",
       " 'mean': 0.199,\n",
       " 'std': 0.118,\n",
       " 'min': 0.0,\n",
       " '25%': 0.106,\n",
       " '50%': 0.189,\n",
       " '75%': 0.274,\n",
       " 'max': 0.76}"
      ]
     },
     "execution_count": 43,
     "metadata": {},
     "output_type": "execute_result"
    }
   ],
   "source": [
    "df.Viscera_weight.describe().round(3).to_dict()"
   ]
  },
  {
   "cell_type": "markdown",
   "metadata": {},
   "source": [
    "### Q8.4"
   ]
  },
  {
   "cell_type": "code",
   "execution_count": 44,
   "metadata": {},
   "outputs": [
    {
     "data": {
      "text/plain": [
       "{'count': 5079.0,\n",
       " 'mean': 0.425,\n",
       " 'std': 0.108,\n",
       " 'min': 0.055,\n",
       " '25%': 0.355,\n",
       " '50%': 0.435,\n",
       " '75%': 0.5,\n",
       " 'max': 0.794}"
      ]
     },
     "execution_count": 44,
     "metadata": {},
     "output_type": "execute_result"
    }
   ],
   "source": [
    "df.Diam.describe().round(3).to_dict()"
   ]
  },
  {
   "cell_type": "code",
   "execution_count": null,
   "metadata": {},
   "outputs": [],
   "source": []
  },
  {
   "cell_type": "code",
   "execution_count": 45,
   "metadata": {
    "id": "71Kx1GnoyG7v"
   },
   "outputs": [],
   "source": [
    "# Display data types of all columns (int)\n",
    "\n",
    "### Q9.1 How many columns have `object` data type?\n",
    "# Q9.2 How many columns have `int64` data type?\n",
    "# Q9.3 How many columns have `float64` data type?\n",
    "\n",
    "# Display data types of all columns (list of str)\n",
    "### Q9.4 What are the columns with dtype == `float64`?\n",
    "# Q9.5 What are the columns with dtype == `int64`?"
   ]
  },
  {
   "cell_type": "markdown",
   "metadata": {},
   "source": [
    "### Q9.1"
   ]
  },
  {
   "cell_type": "code",
   "execution_count": 46,
   "metadata": {},
   "outputs": [
    {
     "data": {
      "text/plain": [
       "5"
      ]
     },
     "execution_count": 46,
     "metadata": {},
     "output_type": "execute_result"
    }
   ],
   "source": [
    "len(list(df.select_dtypes(include='object')))"
   ]
  },
  {
   "cell_type": "markdown",
   "metadata": {},
   "source": [
    "### Q9.4"
   ]
  },
  {
   "cell_type": "code",
   "execution_count": 47,
   "metadata": {},
   "outputs": [
    {
     "data": {
      "text/plain": [
       "['Length',\n",
       " 'Diam',\n",
       " 'Height',\n",
       " 'Whole_weight',\n",
       " 'Shucke_weight',\n",
       " 'Viscera_weight',\n",
       " 'Shell_weight',\n",
       " 'Rings']"
      ]
     },
     "execution_count": 47,
     "metadata": {},
     "output_type": "execute_result"
    }
   ],
   "source": [
    "list(df.select_dtypes(include='float64'))"
   ]
  },
  {
   "cell_type": "code",
   "execution_count": null,
   "metadata": {},
   "outputs": [],
   "source": []
  },
  {
   "cell_type": "code",
   "execution_count": null,
   "metadata": {},
   "outputs": [],
   "source": []
  },
  {
   "cell_type": "code",
   "execution_count": 48,
   "metadata": {
    "id": "RPVevhAMtqVQ"
   },
   "outputs": [],
   "source": [
    "df = df.dropna()"
   ]
  },
  {
   "cell_type": "markdown",
   "metadata": {
    "id": "5rrG2dQQe5yf"
   },
   "source": [
    "# 3. Data selection\n",
    "\n",
    "In pandas.DataFrame you could select\n",
    "\n",
    "  Row/s by position (integer number [0 .. number of rows - 1]) .iloc or by DataFrame.index .loc:   \n",
    "\n",
    "```\n",
    "  data.loc[0]  \n",
    "  data.loc[5:10]  \n",
    "  data.iloc[0]  \n",
    "  data.iloc[5:10]   \n",
    "```\n",
    "\n",
    "Though, this is probably the worst way to manipulate rows.   \n",
    "  Columns by name\n",
    "\n",
    "```\n",
    "  data[columname]\n",
    "```\n",
    "\n",
    "  Row/s and columns\n",
    "\n",
    "```\n",
    "  data.loc[10, columname]  \n",
    "  data.iloc[10, columname]  \n",
    "```\n",
    "\n",
    "Using boolean mask\n",
    "\n",
    "```\n",
    "  mask = data[columname] > value  \n",
    "  data[mask]  \n",
    "```\n",
    "\n",
    "You could combine multiple conditions using & or | (and, or)   \n",
    "\n",
    "```\n",
    "cond1 = data[columname1] > value1  \n",
    "cond2 = data[columname2] > value2  \n",
    "data[cond1 & cond2]  \n",
    "```\n",
    "\n",
    "Using queries .query():  \n",
    "\n",
    "```\n",
    "value = 5 \n",
    "data.query(\"columname > value\")  \n",
    "```\n",
    "\n",
    "You could combine multiple conditions using and, or  \n",
    "\n",
    "```\n",
    "data.query(\"(columname1 > value1) and (columname2 > value2)\")\n",
    "```\n",
    "\n",
    "and others. See https://pandas.pydata.org/pandas-docs/stable/user_guide/indexing.html for more examples.\n",
    "\n",
    "Remember to use different quotation marks \" or ' for columnname inside a query.\n"
   ]
  },
  {
   "cell_type": "code",
   "execution_count": 49,
   "metadata": {},
   "outputs": [
    {
     "data": {
      "text/plain": [
       "array([ 1.,  2.,  3.,  4.,  5.,  6.,  7.,  8.,  9., 10., 11., 12., 13.,\n",
       "       14., 15., 16., 17., 18., 19., 20., 21., 22., 23., 24., 25., 26.,\n",
       "       27., 29.])"
      ]
     },
     "execution_count": 49,
     "metadata": {},
     "output_type": "execute_result"
    }
   ],
   "source": [
    "np.sort(df.Rings.unique())"
   ]
  },
  {
   "cell_type": "code",
   "execution_count": 50,
   "metadata": {
    "id": "WJnCqUx-0YRx"
   },
   "outputs": [],
   "source": [
    "# Select rows by position (int) \n",
    "\n",
    "### Q10.1 What is the first name of a clam on row 777?\n",
    "# Q10.2 What is the last name of a clam on row 999?\n",
    "### Q10.3 How long is a clam from row 1337?\n",
    "# Q10.4 What is the gender of a clam from row 314?\n",
    "# Q10.5 When was the clam with row of 2718 captured?"
   ]
  },
  {
   "cell_type": "markdown",
   "metadata": {},
   "source": [
    "### Q10.1"
   ]
  },
  {
   "cell_type": "code",
   "execution_count": 51,
   "metadata": {},
   "outputs": [
    {
     "data": {
      "text/plain": [
       "'DJ'"
      ]
     },
     "execution_count": 51,
     "metadata": {},
     "output_type": "execute_result"
    }
   ],
   "source": [
    "df.iloc[776].FN"
   ]
  },
  {
   "cell_type": "markdown",
   "metadata": {},
   "source": [
    "### Q10.3"
   ]
  },
  {
   "cell_type": "code",
   "execution_count": 52,
   "metadata": {},
   "outputs": [
    {
     "data": {
      "text/plain": [
       "0.44"
      ]
     },
     "execution_count": 52,
     "metadata": {},
     "output_type": "execute_result"
    }
   ],
   "source": [
    "df.iloc[1336].Length"
   ]
  },
  {
   "cell_type": "code",
   "execution_count": null,
   "metadata": {},
   "outputs": [],
   "source": []
  },
  {
   "cell_type": "code",
   "execution_count": null,
   "metadata": {},
   "outputs": [],
   "source": []
  },
  {
   "cell_type": "code",
   "execution_count": 53,
   "metadata": {
    "id": "Nv5jRoeU0aQG"
   },
   "outputs": [],
   "source": [
    "# Select rows by index (int)\n",
    "\n",
    "# Q11.1 What is the gender of a clam with index 1102?\n",
    "# Q11.2 How long is a clam with index 5695?\n",
    "### Q11.3 How heavy is a clam with index 1045 when still alive?\n",
    "# Q11.4 When was the clam with index 252 captured?\n",
    "### Q11.5 What is the middle name of a clam with index 38?"
   ]
  },
  {
   "cell_type": "markdown",
   "metadata": {},
   "source": [
    "### Q11.3"
   ]
  },
  {
   "cell_type": "code",
   "execution_count": 54,
   "metadata": {},
   "outputs": [
    {
     "data": {
      "text/plain": [
       "0.1835"
      ]
     },
     "execution_count": 54,
     "metadata": {},
     "output_type": "execute_result"
    }
   ],
   "source": [
    "df.loc[1045].Whole_weight.item()"
   ]
  },
  {
   "cell_type": "markdown",
   "metadata": {},
   "source": [
    "### Q11.5"
   ]
  },
  {
   "cell_type": "code",
   "execution_count": 55,
   "metadata": {},
   "outputs": [
    {
     "data": {
      "text/plain": [
       "'Glam'"
      ]
     },
     "execution_count": 55,
     "metadata": {},
     "output_type": "execute_result"
    }
   ],
   "source": [
    "df.loc[1045].SN"
   ]
  },
  {
   "cell_type": "code",
   "execution_count": null,
   "metadata": {},
   "outputs": [],
   "source": []
  },
  {
   "cell_type": "code",
   "execution_count": null,
   "metadata": {},
   "outputs": [],
   "source": []
  },
  {
   "cell_type": "code",
   "execution_count": 56,
   "metadata": {
    "id": "cZneqD6P0e5C"
   },
   "outputs": [],
   "source": [
    "# Using mask or .query syntax select rows/columns (int)\n",
    "\n",
    "### Q12.1 How many clams have less than 5 rings?\n",
    "### Q12.2 When were clams named \"Boy Rock Killer\" captured?\n",
    "# Q12.3 How many clams have length more than 0.1?\n",
    "# Q12.4 How many clams are heavier (in shell) than 0.3?\n",
    "# Q12.5 How many clams were captured at 24 of July?"
   ]
  },
  {
   "cell_type": "markdown",
   "metadata": {},
   "source": [
    "### Q12.1 "
   ]
  },
  {
   "cell_type": "code",
   "execution_count": 57,
   "metadata": {},
   "outputs": [
    {
     "data": {
      "text/plain": [
       "74"
      ]
     },
     "execution_count": 57,
     "metadata": {},
     "output_type": "execute_result"
    }
   ],
   "source": [
    "df[df.Rings < 5].shape[0]"
   ]
  },
  {
   "cell_type": "markdown",
   "metadata": {},
   "source": [
    "### Q12.2"
   ]
  },
  {
   "cell_type": "code",
   "execution_count": 58,
   "metadata": {},
   "outputs": [
    {
     "data": {
      "text/plain": [
       "['20200103T000000',\n",
       " '20201021T000000',\n",
       " '20200618T000000',\n",
       " '20200714T000000',\n",
       " '20201215T000000']"
      ]
     },
     "execution_count": 58,
     "metadata": {},
     "output_type": "execute_result"
    }
   ],
   "source": [
    "query = (df.FN == 'Boy') & (df.SN == 'Rock') & (df.LN == 'Killer')\n",
    "list(df.loc[query].Captured)"
   ]
  },
  {
   "cell_type": "code",
   "execution_count": null,
   "metadata": {},
   "outputs": [],
   "source": []
  },
  {
   "cell_type": "code",
   "execution_count": 59,
   "metadata": {},
   "outputs": [
    {
     "data": {
      "text/html": [
       "<div>\n",
       "<style scoped>\n",
       "    .dataframe tbody tr th:only-of-type {\n",
       "        vertical-align: middle;\n",
       "    }\n",
       "\n",
       "    .dataframe tbody tr th {\n",
       "        vertical-align: top;\n",
       "    }\n",
       "\n",
       "    .dataframe thead th {\n",
       "        text-align: right;\n",
       "    }\n",
       "</style>\n",
       "<table border=\"1\" class=\"dataframe\">\n",
       "  <thead>\n",
       "    <tr style=\"text-align: right;\">\n",
       "      <th></th>\n",
       "      <th>id</th>\n",
       "      <th>FN</th>\n",
       "      <th>SN</th>\n",
       "      <th>LN</th>\n",
       "      <th>Captured</th>\n",
       "      <th>Sex</th>\n",
       "      <th>Length</th>\n",
       "      <th>Diam</th>\n",
       "      <th>Height</th>\n",
       "      <th>Whole_weight</th>\n",
       "      <th>Shucke_weight</th>\n",
       "      <th>Viscera_weight</th>\n",
       "      <th>Shell_weight</th>\n",
       "      <th>Rings</th>\n",
       "    </tr>\n",
       "  </thead>\n",
       "  <tbody>\n",
       "    <tr>\n",
       "      <th>100</th>\n",
       "      <td>593</td>\n",
       "      <td>Boy</td>\n",
       "      <td>Rock</td>\n",
       "      <td>Killer</td>\n",
       "      <td>20200103T000000</td>\n",
       "      <td>F</td>\n",
       "      <td>0.660</td>\n",
       "      <td>0.520</td>\n",
       "      <td>0.180</td>\n",
       "      <td>1.5140</td>\n",
       "      <td>0.526</td>\n",
       "      <td>0.2975</td>\n",
       "      <td>0.420</td>\n",
       "      <td>19.0</td>\n",
       "    </tr>\n",
       "    <tr>\n",
       "      <th>2713</th>\n",
       "      <td>990</td>\n",
       "      <td>Boy</td>\n",
       "      <td>Rock</td>\n",
       "      <td>Killer</td>\n",
       "      <td>20201021T000000</td>\n",
       "      <td>F</td>\n",
       "      <td>0.575</td>\n",
       "      <td>0.460</td>\n",
       "      <td>0.160</td>\n",
       "      <td>1.1030</td>\n",
       "      <td>0.538</td>\n",
       "      <td>0.2210</td>\n",
       "      <td>0.249</td>\n",
       "      <td>9.0</td>\n",
       "    </tr>\n",
       "    <tr>\n",
       "      <th>3187</th>\n",
       "      <td>513</td>\n",
       "      <td>Boy</td>\n",
       "      <td>Rock</td>\n",
       "      <td>Killer</td>\n",
       "      <td>20200618T000000</td>\n",
       "      <td>M</td>\n",
       "      <td>0.310</td>\n",
       "      <td>0.220</td>\n",
       "      <td>0.085</td>\n",
       "      <td>0.1460</td>\n",
       "      <td>0.061</td>\n",
       "      <td>0.0365</td>\n",
       "      <td>0.045</td>\n",
       "      <td>6.0</td>\n",
       "    </tr>\n",
       "    <tr>\n",
       "      <th>3636</th>\n",
       "      <td>536</td>\n",
       "      <td>Boy</td>\n",
       "      <td>Rock</td>\n",
       "      <td>Killer</td>\n",
       "      <td>20200714T000000</td>\n",
       "      <td>I</td>\n",
       "      <td>0.520</td>\n",
       "      <td>0.405</td>\n",
       "      <td>0.140</td>\n",
       "      <td>0.5775</td>\n",
       "      <td>0.200</td>\n",
       "      <td>0.1450</td>\n",
       "      <td>0.179</td>\n",
       "      <td>11.0</td>\n",
       "    </tr>\n",
       "    <tr>\n",
       "      <th>3697</th>\n",
       "      <td>1187</td>\n",
       "      <td>Boy</td>\n",
       "      <td>Rock</td>\n",
       "      <td>Killer</td>\n",
       "      <td>20201215T000000</td>\n",
       "      <td>M</td>\n",
       "      <td>0.685</td>\n",
       "      <td>0.520</td>\n",
       "      <td>0.165</td>\n",
       "      <td>1.5190</td>\n",
       "      <td>0.699</td>\n",
       "      <td>0.3685</td>\n",
       "      <td>0.400</td>\n",
       "      <td>10.0</td>\n",
       "    </tr>\n",
       "  </tbody>\n",
       "</table>\n",
       "</div>"
      ],
      "text/plain": [
       "        id   FN    SN      LN         Captured Sex  Length   Diam  Height  \\\n",
       "100    593  Boy  Rock  Killer  20200103T000000   F   0.660  0.520   0.180   \n",
       "2713   990  Boy  Rock  Killer  20201021T000000   F   0.575  0.460   0.160   \n",
       "3187   513  Boy  Rock  Killer  20200618T000000   M   0.310  0.220   0.085   \n",
       "3636   536  Boy  Rock  Killer  20200714T000000   I   0.520  0.405   0.140   \n",
       "3697  1187  Boy  Rock  Killer  20201215T000000   M   0.685  0.520   0.165   \n",
       "\n",
       "      Whole_weight  Shucke_weight  Viscera_weight  Shell_weight  Rings  \n",
       "100         1.5140          0.526          0.2975         0.420   19.0  \n",
       "2713        1.1030          0.538          0.2210         0.249    9.0  \n",
       "3187        0.1460          0.061          0.0365         0.045    6.0  \n",
       "3636        0.5775          0.200          0.1450         0.179   11.0  \n",
       "3697        1.5190          0.699          0.3685         0.400   10.0  "
      ]
     },
     "execution_count": 59,
     "metadata": {},
     "output_type": "execute_result"
    }
   ],
   "source": [
    "df.loc[query]"
   ]
  },
  {
   "cell_type": "code",
   "execution_count": 60,
   "metadata": {
    "id": "xm4Ve-s70h73"
   },
   "outputs": [],
   "source": [
    "# Using mask or .query syntax select rows/columns (int)\n",
    "\n",
    "# Q13.1 How many clams were captured in the fall? Including both start and end day.\n",
    "# Q13.2 How many clams that were captured in the fall, have first name \"Lil'\"?\n",
    "# Q13.3 How many clams that are wider than 0.4, have first name \"Monster\"?\n",
    "### Q13.4 What was the second name of a clam captured at March, 8, that that was longer than 0.65 and wider than 0.57?\n",
    "### Q13.5 How many rings does an infant clam that was captured in June and has shucked weight between 0.54 and 0.55 have?"
   ]
  },
  {
   "cell_type": "markdown",
   "metadata": {},
   "source": [
    "### Q13.4"
   ]
  },
  {
   "cell_type": "code",
   "execution_count": 61,
   "metadata": {},
   "outputs": [],
   "source": [
    "data_mask = pd.to_datetime(df.Captured) == '2020-03-08'"
   ]
  },
  {
   "cell_type": "code",
   "execution_count": 62,
   "metadata": {},
   "outputs": [
    {
     "data": {
      "text/plain": [
       "'Flow'"
      ]
     },
     "execution_count": 62,
     "metadata": {},
     "output_type": "execute_result"
    }
   ],
   "source": [
    "df.loc[(df.Length > 0.65) & (df.Diam > 0.57) & data_mask].SN.item()"
   ]
  },
  {
   "cell_type": "markdown",
   "metadata": {},
   "source": [
    "### Q13.5"
   ]
  },
  {
   "cell_type": "code",
   "execution_count": 63,
   "metadata": {},
   "outputs": [],
   "source": [
    "weight_mask = (df.Shucke_weight > 0.54) & (df.Shucke_weight < 0.55)\n",
    "date_mask = pd.DatetimeIndex(df.Captured).month == 6\n",
    "sex_mask = df.Sex == 'I'"
   ]
  },
  {
   "cell_type": "code",
   "execution_count": 64,
   "metadata": {},
   "outputs": [
    {
     "data": {
      "text/plain": [
       "9.0"
      ]
     },
     "execution_count": 64,
     "metadata": {},
     "output_type": "execute_result"
    }
   ],
   "source": [
    "df.loc[weight_mask & date_mask & sex_mask].Rings.item()"
   ]
  },
  {
   "cell_type": "code",
   "execution_count": null,
   "metadata": {},
   "outputs": [],
   "source": []
  },
  {
   "cell_type": "code",
   "execution_count": null,
   "metadata": {},
   "outputs": [],
   "source": []
  },
  {
   "cell_type": "code",
   "execution_count": 65,
   "metadata": {
    "id": "TTVitIYf0ib3"
   },
   "outputs": [],
   "source": [
    "# Using mask or .query syntax select rows/columns and compute simple statistics (float)\n",
    "\n",
    "# Q14.1 What was the average whole weight of clams named \"Kitty\"?\n",
    "### Q14.2 What was the whole weight of the heaviest Lil' clam? (FN)\n",
    "### Q14.3 What was the weight of the lightest in terms of whole weight clam captured in June?\n",
    "# Q14.4 What is the median length of clams captured in April?\n",
    "# Q14.5 What is the minimum diameter of clams named \"Master\"?\n"
   ]
  },
  {
   "cell_type": "markdown",
   "metadata": {},
   "source": [
    "### Q14.2"
   ]
  },
  {
   "cell_type": "code",
   "execution_count": 66,
   "metadata": {},
   "outputs": [
    {
     "data": {
      "text/plain": [
       "2.4925"
      ]
     },
     "execution_count": 66,
     "metadata": {},
     "output_type": "execute_result"
    }
   ],
   "source": [
    "df[df.FN == 'Lil\\''].Whole_weight.max()"
   ]
  },
  {
   "cell_type": "markdown",
   "metadata": {},
   "source": [
    "### Q14.3"
   ]
  },
  {
   "cell_type": "code",
   "execution_count": 67,
   "metadata": {},
   "outputs": [
    {
     "data": {
      "text/plain": [
       "0.0235"
      ]
     },
     "execution_count": 67,
     "metadata": {},
     "output_type": "execute_result"
    }
   ],
   "source": [
    "df[pd.DatetimeIndex(df.Captured).month == 6].Whole_weight.min()"
   ]
  },
  {
   "cell_type": "code",
   "execution_count": null,
   "metadata": {},
   "outputs": [],
   "source": []
  },
  {
   "cell_type": "code",
   "execution_count": null,
   "metadata": {},
   "outputs": [],
   "source": []
  },
  {
   "cell_type": "markdown",
   "metadata": {
    "id": "wBLabnN2fAPc"
   },
   "source": [
    "# 4. Creating new columns\n",
    "\n",
    "Creating new column of pandas.DataFrame is as easy as:\n",
    "```\n",
    "data['new_awesome_column'] = [] \n",
    "```\n",
    "that's it. But such a column is relatively useless. Typically, you would compute something new based on existing data and save it in a new column. For example one might want to compute total area of the house as a sum of all sqft_ columns, or create a boolean column of whether the house has grade > 2 or anything else:\n",
    "```\n",
    "data['total_area'] = data[col1] + data[col2] + ...\n",
    "data['high_value'] = data[col] > 5\n",
    "```\n",
    "Pandas also provides another powerfull tool: .apply, .map(), .applymap() methods (they are kinda the same, but not quite). https://stackoverflow.com/questions/19798153/difference-between-map-applymap-and-apply-methods-in-pandas . They allow you to apply some function to every value in the column/s (row-wise) or row (column-wise) or cell (element-wise). For example, same computations of total_area and high_value using .apply():\n",
    "```\n",
    "data['total_area'] = data[[col1, col2, col3]].apply(sum, axis=1)\n",
    "```\n",
    "you are not restricted to existent functions, .apply() accepts any function (including lambda functions):\n",
    "```\n",
    "data['total_area'] = data[[col1, col2, col3]].apply(lambda x: x[0]+x[1]+x[2], axis=1)\n",
    "```\n",
    "or ordinary python function (if this it should have complex behaviour):\n",
    "```\n",
    "def _sum(x):\n",
    "    total = 0\n",
    "    for elem in x:\n",
    "        total += elem\n",
    "    return total\n",
    "\n",
    "data['total_area'] = data[[col1, col2, col3]].apply(_sum, axis=1) \n",
    "```\n",
    "Many pandas methods has axis parameter axis=0 refers to rows, axis=1 refers to columns.\n",
    "\n",
    "Warning. You should never use for loops to sum numerical elements from the container."
   ]
  },
  {
   "cell_type": "code",
   "execution_count": 68,
   "metadata": {
    "id": "nC3VPe6sK_Pp"
   },
   "outputs": [],
   "source": [
    "# create full_name column with concatenation of all clam names\n",
    "df['full_name'] = df.FN + ' ' + df.SN + ' ' + df.LN"
   ]
  },
  {
   "cell_type": "code",
   "execution_count": 69,
   "metadata": {},
   "outputs": [
    {
     "data": {
      "text/html": [
       "<div>\n",
       "<style scoped>\n",
       "    .dataframe tbody tr th:only-of-type {\n",
       "        vertical-align: middle;\n",
       "    }\n",
       "\n",
       "    .dataframe tbody tr th {\n",
       "        vertical-align: top;\n",
       "    }\n",
       "\n",
       "    .dataframe thead th {\n",
       "        text-align: right;\n",
       "    }\n",
       "</style>\n",
       "<table border=\"1\" class=\"dataframe\">\n",
       "  <thead>\n",
       "    <tr style=\"text-align: right;\">\n",
       "      <th></th>\n",
       "      <th>id</th>\n",
       "      <th>FN</th>\n",
       "      <th>SN</th>\n",
       "      <th>LN</th>\n",
       "      <th>Captured</th>\n",
       "      <th>Sex</th>\n",
       "      <th>Length</th>\n",
       "      <th>Diam</th>\n",
       "      <th>Height</th>\n",
       "      <th>Whole_weight</th>\n",
       "      <th>Shucke_weight</th>\n",
       "      <th>Viscera_weight</th>\n",
       "      <th>Shell_weight</th>\n",
       "      <th>Rings</th>\n",
       "      <th>full_name</th>\n",
       "    </tr>\n",
       "  </thead>\n",
       "  <tbody>\n",
       "    <tr>\n",
       "      <th>0</th>\n",
       "      <td>835</td>\n",
       "      <td>Kid</td>\n",
       "      <td>College</td>\n",
       "      <td>Machine</td>\n",
       "      <td>20200621T000000</td>\n",
       "      <td>I</td>\n",
       "      <td>0.450</td>\n",
       "      <td>0.350</td>\n",
       "      <td>0.130</td>\n",
       "      <td>0.5470</td>\n",
       "      <td>0.2450</td>\n",
       "      <td>0.1405</td>\n",
       "      <td>0.1405</td>\n",
       "      <td>8.0</td>\n",
       "      <td>Kid College Machine</td>\n",
       "    </tr>\n",
       "    <tr>\n",
       "      <th>1</th>\n",
       "      <td>540</td>\n",
       "      <td>Jalapeno</td>\n",
       "      <td>Glam</td>\n",
       "      <td>Machine</td>\n",
       "      <td>20200308T000000</td>\n",
       "      <td>F</td>\n",
       "      <td>0.500</td>\n",
       "      <td>0.375</td>\n",
       "      <td>0.140</td>\n",
       "      <td>0.6040</td>\n",
       "      <td>0.2420</td>\n",
       "      <td>0.1415</td>\n",
       "      <td>0.1790</td>\n",
       "      <td>15.0</td>\n",
       "      <td>Jalapeno Glam Machine</td>\n",
       "    </tr>\n",
       "    <tr>\n",
       "      <th>2</th>\n",
       "      <td>2295</td>\n",
       "      <td>Baby</td>\n",
       "      <td>Full</td>\n",
       "      <td>Killer</td>\n",
       "      <td>20200222T000000</td>\n",
       "      <td>F</td>\n",
       "      <td>0.520</td>\n",
       "      <td>0.415</td>\n",
       "      <td>0.145</td>\n",
       "      <td>0.8045</td>\n",
       "      <td>0.3325</td>\n",
       "      <td>0.1725</td>\n",
       "      <td>0.2850</td>\n",
       "      <td>10.0</td>\n",
       "      <td>Baby Full Killer</td>\n",
       "    </tr>\n",
       "    <tr>\n",
       "      <th>3</th>\n",
       "      <td>858</td>\n",
       "      <td>Kid</td>\n",
       "      <td>Rock</td>\n",
       "      <td>Head</td>\n",
       "      <td>20200222T000000</td>\n",
       "      <td>F</td>\n",
       "      <td>0.595</td>\n",
       "      <td>0.480</td>\n",
       "      <td>0.150</td>\n",
       "      <td>1.1100</td>\n",
       "      <td>0.4980</td>\n",
       "      <td>0.2280</td>\n",
       "      <td>0.3300</td>\n",
       "      <td>10.0</td>\n",
       "      <td>Kid Rock Head</td>\n",
       "    </tr>\n",
       "    <tr>\n",
       "      <th>4</th>\n",
       "      <td>2329</td>\n",
       "      <td>Boy</td>\n",
       "      <td>Block</td>\n",
       "      <td>Death</td>\n",
       "      <td>20201219T000000</td>\n",
       "      <td>I</td>\n",
       "      <td>0.480</td>\n",
       "      <td>0.390</td>\n",
       "      <td>0.145</td>\n",
       "      <td>0.5825</td>\n",
       "      <td>0.2315</td>\n",
       "      <td>0.1210</td>\n",
       "      <td>0.2550</td>\n",
       "      <td>15.0</td>\n",
       "      <td>Boy Block Death</td>\n",
       "    </tr>\n",
       "  </tbody>\n",
       "</table>\n",
       "</div>"
      ],
      "text/plain": [
       "     id        FN       SN       LN         Captured Sex  Length   Diam  \\\n",
       "0   835       Kid  College  Machine  20200621T000000   I   0.450  0.350   \n",
       "1   540  Jalapeno     Glam  Machine  20200308T000000   F   0.500  0.375   \n",
       "2  2295      Baby     Full   Killer  20200222T000000   F   0.520  0.415   \n",
       "3   858       Kid     Rock     Head  20200222T000000   F   0.595  0.480   \n",
       "4  2329       Boy    Block    Death  20201219T000000   I   0.480  0.390   \n",
       "\n",
       "   Height  Whole_weight  Shucke_weight  Viscera_weight  Shell_weight  Rings  \\\n",
       "0   0.130        0.5470         0.2450          0.1405        0.1405    8.0   \n",
       "1   0.140        0.6040         0.2420          0.1415        0.1790   15.0   \n",
       "2   0.145        0.8045         0.3325          0.1725        0.2850   10.0   \n",
       "3   0.150        1.1100         0.4980          0.2280        0.3300   10.0   \n",
       "4   0.145        0.5825         0.2315          0.1210        0.2550   15.0   \n",
       "\n",
       "               full_name  \n",
       "0    Kid College Machine  \n",
       "1  Jalapeno Glam Machine  \n",
       "2       Baby Full Killer  \n",
       "3          Kid Rock Head  \n",
       "4        Boy Block Death  "
      ]
     },
     "execution_count": 69,
     "metadata": {},
     "output_type": "execute_result"
    }
   ],
   "source": [
    "df.head()"
   ]
  },
  {
   "cell_type": "code",
   "execution_count": 70,
   "metadata": {
    "id": "nxbj9Po2Le18"
   },
   "outputs": [],
   "source": [
    "# Create new columns using the old ones (new column in your DataFrame)\n",
    "\n",
    "### ALL\n",
    "# Q15.1 Create a `age_in_years` column (age is the number of rings +1.5) using any method above\n",
    "# Q15.2 Create a new column `area` using diameter, length and considering that a clam is a perfect rectangle\n",
    "# Q15.3 Create a new column `density` by dividing volume (area multiplied by a fixed number of 0.05) by whole weight\n",
    "# Q15.4 Create a new column `age_cat` by splitting a `age` into 5 ([1..5]) distinct intervals: 0 < x <=20%,\n",
    "# 20% < x <= 40%, ... 80% < x <= 100% percentiles. You could use `.quantile()` to compute percentiles.\n",
    "# Q15.5 Create a new bool column `high_class` it is True if clam has \n",
    "# the proportion of shell in whole clam more or equal to 1"
   ]
  },
  {
   "cell_type": "code",
   "execution_count": 71,
   "metadata": {},
   "outputs": [],
   "source": [
    "import warnings\n",
    "warnings.filterwarnings(\"ignore\")"
   ]
  },
  {
   "cell_type": "markdown",
   "metadata": {},
   "source": [
    "### Q15.1"
   ]
  },
  {
   "cell_type": "code",
   "execution_count": 72,
   "metadata": {},
   "outputs": [],
   "source": [
    "df['age_in_years'] = df.Rings + 1.5"
   ]
  },
  {
   "cell_type": "markdown",
   "metadata": {},
   "source": [
    "### Q15.2 "
   ]
  },
  {
   "cell_type": "code",
   "execution_count": 73,
   "metadata": {},
   "outputs": [],
   "source": [
    "df['area'] = df.Diam * df.Length"
   ]
  },
  {
   "cell_type": "markdown",
   "metadata": {},
   "source": [
    "### Q15.3"
   ]
  },
  {
   "cell_type": "code",
   "execution_count": 74,
   "metadata": {},
   "outputs": [],
   "source": [
    "df['density'] = df.Whole_weight / (df.area * 0.05)"
   ]
  },
  {
   "cell_type": "markdown",
   "metadata": {},
   "source": [
    "### Q15.4"
   ]
  },
  {
   "cell_type": "code",
   "execution_count": 75,
   "metadata": {},
   "outputs": [],
   "source": [
    "percent_0 = df.age_in_years.quantile(0)\n",
    "percent_20 = df.age_in_years.quantile(0.2)\n",
    "percent_40 = df.age_in_years.quantile(0.4)\n",
    "percent_60 = df.age_in_years.quantile(0.6)\n",
    "percent_80 = df.age_in_years.quantile(0.8)\n",
    "percent_100 = df.age_in_years.quantile(1)"
   ]
  },
  {
   "cell_type": "code",
   "execution_count": 76,
   "metadata": {},
   "outputs": [
    {
     "data": {
      "text/plain": [
       "[2.5, 8.5, 10.5, 11.5, 13.5, 30.5]"
      ]
     },
     "execution_count": 76,
     "metadata": {},
     "output_type": "execute_result"
    }
   ],
   "source": [
    "percent_lst = [percent_0, percent_20, percent_40, percent_60, percent_80, percent_100]\n",
    "percent_lst"
   ]
  },
  {
   "cell_type": "code",
   "execution_count": 77,
   "metadata": {},
   "outputs": [],
   "source": [
    "def age_splitter(x):\n",
    "    for i in range(len(percent_lst)):\n",
    "        if x >= percent_lst[i] and x <= percent_lst[i + 1]: # we can use \">=\" here because we run from left to right\n",
    "            return i + 1"
   ]
  },
  {
   "cell_type": "code",
   "execution_count": 78,
   "metadata": {},
   "outputs": [
    {
     "data": {
      "text/html": [
       "<div>\n",
       "<style scoped>\n",
       "    .dataframe tbody tr th:only-of-type {\n",
       "        vertical-align: middle;\n",
       "    }\n",
       "\n",
       "    .dataframe tbody tr th {\n",
       "        vertical-align: top;\n",
       "    }\n",
       "\n",
       "    .dataframe thead th {\n",
       "        text-align: right;\n",
       "    }\n",
       "</style>\n",
       "<table border=\"1\" class=\"dataframe\">\n",
       "  <thead>\n",
       "    <tr style=\"text-align: right;\">\n",
       "      <th></th>\n",
       "      <th>id</th>\n",
       "      <th>FN</th>\n",
       "      <th>SN</th>\n",
       "      <th>LN</th>\n",
       "      <th>Captured</th>\n",
       "      <th>Sex</th>\n",
       "      <th>Length</th>\n",
       "      <th>Diam</th>\n",
       "      <th>Height</th>\n",
       "      <th>Whole_weight</th>\n",
       "      <th>Shucke_weight</th>\n",
       "      <th>Viscera_weight</th>\n",
       "      <th>Shell_weight</th>\n",
       "      <th>Rings</th>\n",
       "      <th>full_name</th>\n",
       "      <th>age_in_years</th>\n",
       "      <th>area</th>\n",
       "      <th>density</th>\n",
       "      <th>age_cat</th>\n",
       "    </tr>\n",
       "  </thead>\n",
       "  <tbody>\n",
       "    <tr>\n",
       "      <th>0</th>\n",
       "      <td>835</td>\n",
       "      <td>Kid</td>\n",
       "      <td>College</td>\n",
       "      <td>Machine</td>\n",
       "      <td>20200621T000000</td>\n",
       "      <td>I</td>\n",
       "      <td>0.450</td>\n",
       "      <td>0.350</td>\n",
       "      <td>0.130</td>\n",
       "      <td>0.5470</td>\n",
       "      <td>0.2450</td>\n",
       "      <td>0.1405</td>\n",
       "      <td>0.1405</td>\n",
       "      <td>8.0</td>\n",
       "      <td>Kid College Machine</td>\n",
       "      <td>9.5</td>\n",
       "      <td>0.1575</td>\n",
       "      <td>69.460317</td>\n",
       "      <td>2</td>\n",
       "    </tr>\n",
       "    <tr>\n",
       "      <th>1</th>\n",
       "      <td>540</td>\n",
       "      <td>Jalapeno</td>\n",
       "      <td>Glam</td>\n",
       "      <td>Machine</td>\n",
       "      <td>20200308T000000</td>\n",
       "      <td>F</td>\n",
       "      <td>0.500</td>\n",
       "      <td>0.375</td>\n",
       "      <td>0.140</td>\n",
       "      <td>0.6040</td>\n",
       "      <td>0.2420</td>\n",
       "      <td>0.1415</td>\n",
       "      <td>0.1790</td>\n",
       "      <td>15.0</td>\n",
       "      <td>Jalapeno Glam Machine</td>\n",
       "      <td>16.5</td>\n",
       "      <td>0.1875</td>\n",
       "      <td>64.426667</td>\n",
       "      <td>5</td>\n",
       "    </tr>\n",
       "    <tr>\n",
       "      <th>2</th>\n",
       "      <td>2295</td>\n",
       "      <td>Baby</td>\n",
       "      <td>Full</td>\n",
       "      <td>Killer</td>\n",
       "      <td>20200222T000000</td>\n",
       "      <td>F</td>\n",
       "      <td>0.520</td>\n",
       "      <td>0.415</td>\n",
       "      <td>0.145</td>\n",
       "      <td>0.8045</td>\n",
       "      <td>0.3325</td>\n",
       "      <td>0.1725</td>\n",
       "      <td>0.2850</td>\n",
       "      <td>10.0</td>\n",
       "      <td>Baby Full Killer</td>\n",
       "      <td>11.5</td>\n",
       "      <td>0.2158</td>\n",
       "      <td>74.559778</td>\n",
       "      <td>3</td>\n",
       "    </tr>\n",
       "    <tr>\n",
       "      <th>3</th>\n",
       "      <td>858</td>\n",
       "      <td>Kid</td>\n",
       "      <td>Rock</td>\n",
       "      <td>Head</td>\n",
       "      <td>20200222T000000</td>\n",
       "      <td>F</td>\n",
       "      <td>0.595</td>\n",
       "      <td>0.480</td>\n",
       "      <td>0.150</td>\n",
       "      <td>1.1100</td>\n",
       "      <td>0.4980</td>\n",
       "      <td>0.2280</td>\n",
       "      <td>0.3300</td>\n",
       "      <td>10.0</td>\n",
       "      <td>Kid Rock Head</td>\n",
       "      <td>11.5</td>\n",
       "      <td>0.2856</td>\n",
       "      <td>77.731092</td>\n",
       "      <td>3</td>\n",
       "    </tr>\n",
       "    <tr>\n",
       "      <th>4</th>\n",
       "      <td>2329</td>\n",
       "      <td>Boy</td>\n",
       "      <td>Block</td>\n",
       "      <td>Death</td>\n",
       "      <td>20201219T000000</td>\n",
       "      <td>I</td>\n",
       "      <td>0.480</td>\n",
       "      <td>0.390</td>\n",
       "      <td>0.145</td>\n",
       "      <td>0.5825</td>\n",
       "      <td>0.2315</td>\n",
       "      <td>0.1210</td>\n",
       "      <td>0.2550</td>\n",
       "      <td>15.0</td>\n",
       "      <td>Boy Block Death</td>\n",
       "      <td>16.5</td>\n",
       "      <td>0.1872</td>\n",
       "      <td>62.232906</td>\n",
       "      <td>5</td>\n",
       "    </tr>\n",
       "  </tbody>\n",
       "</table>\n",
       "</div>"
      ],
      "text/plain": [
       "     id        FN       SN       LN         Captured Sex  Length   Diam  \\\n",
       "0   835       Kid  College  Machine  20200621T000000   I   0.450  0.350   \n",
       "1   540  Jalapeno     Glam  Machine  20200308T000000   F   0.500  0.375   \n",
       "2  2295      Baby     Full   Killer  20200222T000000   F   0.520  0.415   \n",
       "3   858       Kid     Rock     Head  20200222T000000   F   0.595  0.480   \n",
       "4  2329       Boy    Block    Death  20201219T000000   I   0.480  0.390   \n",
       "\n",
       "   Height  Whole_weight  Shucke_weight  Viscera_weight  Shell_weight  Rings  \\\n",
       "0   0.130        0.5470         0.2450          0.1405        0.1405    8.0   \n",
       "1   0.140        0.6040         0.2420          0.1415        0.1790   15.0   \n",
       "2   0.145        0.8045         0.3325          0.1725        0.2850   10.0   \n",
       "3   0.150        1.1100         0.4980          0.2280        0.3300   10.0   \n",
       "4   0.145        0.5825         0.2315          0.1210        0.2550   15.0   \n",
       "\n",
       "               full_name  age_in_years    area    density  age_cat  \n",
       "0    Kid College Machine           9.5  0.1575  69.460317        2  \n",
       "1  Jalapeno Glam Machine          16.5  0.1875  64.426667        5  \n",
       "2       Baby Full Killer          11.5  0.2158  74.559778        3  \n",
       "3          Kid Rock Head          11.5  0.2856  77.731092        3  \n",
       "4        Boy Block Death          16.5  0.1872  62.232906        5  "
      ]
     },
     "execution_count": 78,
     "metadata": {},
     "output_type": "execute_result"
    }
   ],
   "source": [
    "df['age_cat'] = df['age_in_years'].apply(age_splitter)\n",
    "df.head()"
   ]
  },
  {
   "cell_type": "markdown",
   "metadata": {},
   "source": [
    "### Q15.5"
   ]
  },
  {
   "cell_type": "code",
   "execution_count": 79,
   "metadata": {},
   "outputs": [],
   "source": [
    "df['high_class'] = df.Shell_weight.apply(lambda x: True if x >= 1 else False)"
   ]
  },
  {
   "cell_type": "code",
   "execution_count": null,
   "metadata": {},
   "outputs": [],
   "source": []
  },
  {
   "cell_type": "code",
   "execution_count": null,
   "metadata": {},
   "outputs": [],
   "source": []
  },
  {
   "cell_type": "code",
   "execution_count": 80,
   "metadata": {
    "id": "Fzig1HmlL4rq"
   },
   "outputs": [],
   "source": [
    "# Using mask or .query syntax select rows/columns (float)\n",
    "\n",
    "### Q16.1 What is the average age of the clam of the high_class(=True)?\n",
    "### Q16.2 What is the average area of the clam from highest age category?\n",
    "# Q16.3 What is the maximal length amongst clams with the lowest age category?\n",
    "# Q16.4 What is the most frequent gender amongst clams with the lowest age category?\n",
    "# Q16.5 What is the minimal number of rings in clams with high_class=True?"
   ]
  },
  {
   "cell_type": "markdown",
   "metadata": {},
   "source": [
    "### Q16.1"
   ]
  },
  {
   "cell_type": "code",
   "execution_count": 81,
   "metadata": {},
   "outputs": [
    {
     "data": {
      "text/plain": [
       "19.5"
      ]
     },
     "execution_count": 81,
     "metadata": {},
     "output_type": "execute_result"
    }
   ],
   "source": [
    "df[df.high_class == True].age_in_years.mean()"
   ]
  },
  {
   "cell_type": "markdown",
   "metadata": {},
   "source": [
    "### Q16.2"
   ]
  },
  {
   "cell_type": "code",
   "execution_count": 82,
   "metadata": {},
   "outputs": [
    {
     "data": {
      "text/plain": [
       "0.2763962481962482"
      ]
     },
     "execution_count": 82,
     "metadata": {},
     "output_type": "execute_result"
    }
   ],
   "source": [
    "df[df.age_cat == 5].area.mean()"
   ]
  },
  {
   "cell_type": "code",
   "execution_count": null,
   "metadata": {},
   "outputs": [],
   "source": []
  },
  {
   "cell_type": "code",
   "execution_count": null,
   "metadata": {},
   "outputs": [],
   "source": []
  },
  {
   "cell_type": "markdown",
   "metadata": {
    "id": "ezvSnhPRfFXM"
   },
   "source": [
    "# 5. Basic date processing\n",
    "\n",
    "You figure out that column date is to harsh for you, so you decided to convert it to a more plausible format:\n",
    "\n",
    "- Use pandas method to_datetime() to convert the date to a good format.\n",
    "- Extract year, month, day and weekday from your new date column. Save them to separete columns.\n",
    "- How many columns has your data now?\n",
    "- Drop column date, remember to set inplace parameter to True.\n",
    "\n",
    "Hint: for datetime formatted date you could extract the year as follow:\n",
    "```\n",
    "data.date.dt.year\n",
    "```\n",
    "Very often date could be a ridiculously rich feature, sometimes it is holidays that matters, sometimes weekends, sometimes some special days like black friday.\n",
    "\n",
    "Learn how to work with date in Python!\n"
   ]
  },
  {
   "cell_type": "code",
   "execution_count": 83,
   "metadata": {
    "id": "ZghL5CmKTBZc"
   },
   "outputs": [],
   "source": [
    "# Create new columns based on `Captured` column\n",
    "\n",
    "### ALL\n",
    "# Q17.1 Convert date to datetime format\n",
    "# Q17.2 Extract and store `year`\n",
    "# Q17.3 Extract and store `month`\n",
    "# Q17.4 Extract and store `day`\n",
    "# Q17.5 Extract and store `weekday`\n",
    "# Q17.6 Create a new column `age10` - the age of the clam in full decades (e.g. 9 year old clam - 0, 21 year old clam - 2)\n",
    "\n",
    "from datetime import datetime"
   ]
  },
  {
   "cell_type": "code",
   "execution_count": 84,
   "metadata": {},
   "outputs": [],
   "source": [
    "df['captured_date'] = pd.to_datetime(df.Captured)\n",
    "df['year'] = pd.DatetimeIndex(df.captured_date).year\n",
    "df['month'] = pd.DatetimeIndex(df.captured_date).month\n",
    "df['day'] = pd.DatetimeIndex(df.captured_date).day\n",
    "df['weekday'] = pd.DatetimeIndex(df.captured_date).weekday\n",
    "df['age10'] = df.age_in_years // 10"
   ]
  },
  {
   "cell_type": "code",
   "execution_count": null,
   "metadata": {},
   "outputs": [],
   "source": []
  },
  {
   "cell_type": "code",
   "execution_count": null,
   "metadata": {},
   "outputs": [],
   "source": []
  },
  {
   "cell_type": "code",
   "execution_count": 85,
   "metadata": {
    "id": "QcgZcfuITEZ4"
   },
   "outputs": [],
   "source": [
    "# Drop column `Captured`\n",
    "\n",
    "del df[\"Captured\"]"
   ]
  },
  {
   "cell_type": "code",
   "execution_count": 86,
   "metadata": {
    "id": "UU_wYcyETK9T"
   },
   "outputs": [],
   "source": [
    "# Find some date related information from the data (int)\n",
    "\n",
    "# Q18.1 What is the most popular capturing weekday?\n",
    "### Q18.2 What is the most popular capturing month?\n",
    "# Q18.3 What is the least popular capturing weekday?\n",
    "# Q18.4 What is the median age of the clam? (float)\n",
    "### Q18.5 How many clams were captured on the Day of Russia (June, 12)?\n"
   ]
  },
  {
   "cell_type": "markdown",
   "metadata": {},
   "source": [
    "### Q18.2"
   ]
  },
  {
   "cell_type": "code",
   "execution_count": 87,
   "metadata": {},
   "outputs": [
    {
     "data": {
      "text/plain": [
       "3"
      ]
     },
     "execution_count": 87,
     "metadata": {},
     "output_type": "execute_result"
    }
   ],
   "source": [
    "df.month.mode().item()"
   ]
  },
  {
   "cell_type": "markdown",
   "metadata": {},
   "source": [
    "### Q18.5"
   ]
  },
  {
   "cell_type": "code",
   "execution_count": 88,
   "metadata": {},
   "outputs": [
    {
     "data": {
      "text/plain": [
       "8"
      ]
     },
     "execution_count": 88,
     "metadata": {},
     "output_type": "execute_result"
    }
   ],
   "source": [
    "df[(df.month == 6) & (df.day == 12)].shape[0]"
   ]
  },
  {
   "cell_type": "markdown",
   "metadata": {
    "id": "4LrPCPd0fRYz"
   },
   "source": [
    "# 6. Groupby\n",
    "\n",
    "from the documentation https://pandas.pydata.org/pandas-docs/stable/user_guide/groupby.html\n",
    "\n",
    "By “group by” we are referring to a process involving one or more of the following steps:\n",
    "\n",
    "- Splitting the data into groups based on some criteria.\n",
    "- Applying a function to each group independently.\n",
    "- Combining the results into a data structure.\n",
    "\n",
    "`.groupby()` is one of the most powerfull tool for feature engineering. Very often it is used to group object with the same categorical characteristics and compute some statistics (e.g. mean, max, etc.) of a their numerical characteric.\n",
    "\n",
    "Instead of computing average area of houses with high grade you could compute average areas of the houses for every grade in a single command:\n",
    "```\n",
    "data.groupby('grade')['sqm_tot_area'].mean()\n",
    "```\n",
    "You could also make multi-column groups:\n",
    "```\n",
    "data.groupby(['weekday','grade'])['price'].min()\n",
    "```\n",
    "next, you could compute multiple aggregation functions:\n",
    "```\n",
    "data.groupby(['weekday','grade'])['price'].agg([min, max])\n",
    "```\n",
    "instead of using built-in functions you could compute custom functions using apply:\n",
    "```\n",
    "import numpy as np\n",
    "data.groupby(['condition','grade'])['bathrooms'].apply(lambda x: np.quantile(x, .5))\n",
    "```\n",
    "and the coolest thing now is that you can map the results of groupby back on your DataFrame!\n",
    "```\n",
    "gp = data.groupby(['condition'])['bathrooms'].median()\n",
    "data['gp_feature'] = data['condition'].map(gp)\n",
    "```\n",
    "Now, if some house has condition == 2, its gp_feature will be equal to the median number of bathrooms amongst all houses with condition == 2.\n",
    "\n",
    "Read more examples in the documentation https://pandas.pydata.org/pandas-docs/stable/user_guide/groupby.html\n"
   ]
  },
  {
   "cell_type": "code",
   "execution_count": 89,
   "metadata": {
    "id": "nRmmkfIVXp5K"
   },
   "outputs": [],
   "source": [
    "# Create some groupby features\n",
    "\n",
    "# Q19.1 `whole_by_year` groupby `year` and compute median whole weight.\n",
    "### Q19.2 `shell_by_weekday` groupby `weekday` and compute median shell weight.\n",
    "# Q19.3 `area_by_age` groupby `age_cat` and compute average `area`.\n",
    "### Q19.4 `density_by_age` groupby `age_cat` and compute average density of a clam.\n"
   ]
  },
  {
   "cell_type": "markdown",
   "metadata": {},
   "source": [
    "### Q19.2"
   ]
  },
  {
   "cell_type": "code",
   "execution_count": 90,
   "metadata": {},
   "outputs": [
    {
     "data": {
      "text/plain": [
       "weekday\n",
       "0    0.2400\n",
       "1    0.2290\n",
       "2    0.2280\n",
       "3    0.2455\n",
       "4    0.2400\n",
       "5    0.2180\n",
       "6    0.2215\n",
       "Name: Shell_weight, dtype: float64"
      ]
     },
     "execution_count": 90,
     "metadata": {},
     "output_type": "execute_result"
    }
   ],
   "source": [
    "median_shell = df.groupby('weekday')['Shell_weight'].median()\n",
    "median_shell"
   ]
  },
  {
   "cell_type": "code",
   "execution_count": 91,
   "metadata": {},
   "outputs": [],
   "source": [
    "df['shell_by_weekday'] = df['weekday'].map(median_shell)"
   ]
  },
  {
   "cell_type": "code",
   "execution_count": 92,
   "metadata": {},
   "outputs": [
    {
     "data": {
      "text/html": [
       "<div>\n",
       "<style scoped>\n",
       "    .dataframe tbody tr th:only-of-type {\n",
       "        vertical-align: middle;\n",
       "    }\n",
       "\n",
       "    .dataframe tbody tr th {\n",
       "        vertical-align: top;\n",
       "    }\n",
       "\n",
       "    .dataframe thead th {\n",
       "        text-align: right;\n",
       "    }\n",
       "</style>\n",
       "<table border=\"1\" class=\"dataframe\">\n",
       "  <thead>\n",
       "    <tr style=\"text-align: right;\">\n",
       "      <th></th>\n",
       "      <th>id</th>\n",
       "      <th>FN</th>\n",
       "      <th>SN</th>\n",
       "      <th>LN</th>\n",
       "      <th>Sex</th>\n",
       "      <th>Length</th>\n",
       "      <th>Diam</th>\n",
       "      <th>Height</th>\n",
       "      <th>Whole_weight</th>\n",
       "      <th>Shucke_weight</th>\n",
       "      <th>Viscera_weight</th>\n",
       "      <th>Shell_weight</th>\n",
       "      <th>Rings</th>\n",
       "      <th>full_name</th>\n",
       "      <th>age_in_years</th>\n",
       "      <th>area</th>\n",
       "      <th>density</th>\n",
       "      <th>age_cat</th>\n",
       "      <th>high_class</th>\n",
       "      <th>captured_date</th>\n",
       "      <th>year</th>\n",
       "      <th>month</th>\n",
       "      <th>day</th>\n",
       "      <th>weekday</th>\n",
       "      <th>age10</th>\n",
       "      <th>shell_by_weekday</th>\n",
       "    </tr>\n",
       "  </thead>\n",
       "  <tbody>\n",
       "    <tr>\n",
       "      <th>0</th>\n",
       "      <td>835</td>\n",
       "      <td>Kid</td>\n",
       "      <td>College</td>\n",
       "      <td>Machine</td>\n",
       "      <td>I</td>\n",
       "      <td>0.450</td>\n",
       "      <td>0.350</td>\n",
       "      <td>0.130</td>\n",
       "      <td>0.5470</td>\n",
       "      <td>0.2450</td>\n",
       "      <td>0.1405</td>\n",
       "      <td>0.1405</td>\n",
       "      <td>8.0</td>\n",
       "      <td>Kid College Machine</td>\n",
       "      <td>9.5</td>\n",
       "      <td>0.1575</td>\n",
       "      <td>69.460317</td>\n",
       "      <td>2</td>\n",
       "      <td>False</td>\n",
       "      <td>2020-06-21</td>\n",
       "      <td>2020</td>\n",
       "      <td>6</td>\n",
       "      <td>21</td>\n",
       "      <td>6</td>\n",
       "      <td>0.0</td>\n",
       "      <td>0.2215</td>\n",
       "    </tr>\n",
       "    <tr>\n",
       "      <th>1</th>\n",
       "      <td>540</td>\n",
       "      <td>Jalapeno</td>\n",
       "      <td>Glam</td>\n",
       "      <td>Machine</td>\n",
       "      <td>F</td>\n",
       "      <td>0.500</td>\n",
       "      <td>0.375</td>\n",
       "      <td>0.140</td>\n",
       "      <td>0.6040</td>\n",
       "      <td>0.2420</td>\n",
       "      <td>0.1415</td>\n",
       "      <td>0.1790</td>\n",
       "      <td>15.0</td>\n",
       "      <td>Jalapeno Glam Machine</td>\n",
       "      <td>16.5</td>\n",
       "      <td>0.1875</td>\n",
       "      <td>64.426667</td>\n",
       "      <td>5</td>\n",
       "      <td>False</td>\n",
       "      <td>2020-03-08</td>\n",
       "      <td>2020</td>\n",
       "      <td>3</td>\n",
       "      <td>8</td>\n",
       "      <td>6</td>\n",
       "      <td>1.0</td>\n",
       "      <td>0.2215</td>\n",
       "    </tr>\n",
       "    <tr>\n",
       "      <th>2</th>\n",
       "      <td>2295</td>\n",
       "      <td>Baby</td>\n",
       "      <td>Full</td>\n",
       "      <td>Killer</td>\n",
       "      <td>F</td>\n",
       "      <td>0.520</td>\n",
       "      <td>0.415</td>\n",
       "      <td>0.145</td>\n",
       "      <td>0.8045</td>\n",
       "      <td>0.3325</td>\n",
       "      <td>0.1725</td>\n",
       "      <td>0.2850</td>\n",
       "      <td>10.0</td>\n",
       "      <td>Baby Full Killer</td>\n",
       "      <td>11.5</td>\n",
       "      <td>0.2158</td>\n",
       "      <td>74.559778</td>\n",
       "      <td>3</td>\n",
       "      <td>False</td>\n",
       "      <td>2020-02-22</td>\n",
       "      <td>2020</td>\n",
       "      <td>2</td>\n",
       "      <td>22</td>\n",
       "      <td>5</td>\n",
       "      <td>1.0</td>\n",
       "      <td>0.2180</td>\n",
       "    </tr>\n",
       "    <tr>\n",
       "      <th>3</th>\n",
       "      <td>858</td>\n",
       "      <td>Kid</td>\n",
       "      <td>Rock</td>\n",
       "      <td>Head</td>\n",
       "      <td>F</td>\n",
       "      <td>0.595</td>\n",
       "      <td>0.480</td>\n",
       "      <td>0.150</td>\n",
       "      <td>1.1100</td>\n",
       "      <td>0.4980</td>\n",
       "      <td>0.2280</td>\n",
       "      <td>0.3300</td>\n",
       "      <td>10.0</td>\n",
       "      <td>Kid Rock Head</td>\n",
       "      <td>11.5</td>\n",
       "      <td>0.2856</td>\n",
       "      <td>77.731092</td>\n",
       "      <td>3</td>\n",
       "      <td>False</td>\n",
       "      <td>2020-02-22</td>\n",
       "      <td>2020</td>\n",
       "      <td>2</td>\n",
       "      <td>22</td>\n",
       "      <td>5</td>\n",
       "      <td>1.0</td>\n",
       "      <td>0.2180</td>\n",
       "    </tr>\n",
       "    <tr>\n",
       "      <th>4</th>\n",
       "      <td>2329</td>\n",
       "      <td>Boy</td>\n",
       "      <td>Block</td>\n",
       "      <td>Death</td>\n",
       "      <td>I</td>\n",
       "      <td>0.480</td>\n",
       "      <td>0.390</td>\n",
       "      <td>0.145</td>\n",
       "      <td>0.5825</td>\n",
       "      <td>0.2315</td>\n",
       "      <td>0.1210</td>\n",
       "      <td>0.2550</td>\n",
       "      <td>15.0</td>\n",
       "      <td>Boy Block Death</td>\n",
       "      <td>16.5</td>\n",
       "      <td>0.1872</td>\n",
       "      <td>62.232906</td>\n",
       "      <td>5</td>\n",
       "      <td>False</td>\n",
       "      <td>2020-12-19</td>\n",
       "      <td>2020</td>\n",
       "      <td>12</td>\n",
       "      <td>19</td>\n",
       "      <td>5</td>\n",
       "      <td>1.0</td>\n",
       "      <td>0.2180</td>\n",
       "    </tr>\n",
       "  </tbody>\n",
       "</table>\n",
       "</div>"
      ],
      "text/plain": [
       "     id        FN       SN       LN Sex  Length   Diam  Height  Whole_weight  \\\n",
       "0   835       Kid  College  Machine   I   0.450  0.350   0.130        0.5470   \n",
       "1   540  Jalapeno     Glam  Machine   F   0.500  0.375   0.140        0.6040   \n",
       "2  2295      Baby     Full   Killer   F   0.520  0.415   0.145        0.8045   \n",
       "3   858       Kid     Rock     Head   F   0.595  0.480   0.150        1.1100   \n",
       "4  2329       Boy    Block    Death   I   0.480  0.390   0.145        0.5825   \n",
       "\n",
       "   Shucke_weight  Viscera_weight  Shell_weight  Rings              full_name  \\\n",
       "0         0.2450          0.1405        0.1405    8.0    Kid College Machine   \n",
       "1         0.2420          0.1415        0.1790   15.0  Jalapeno Glam Machine   \n",
       "2         0.3325          0.1725        0.2850   10.0       Baby Full Killer   \n",
       "3         0.4980          0.2280        0.3300   10.0          Kid Rock Head   \n",
       "4         0.2315          0.1210        0.2550   15.0        Boy Block Death   \n",
       "\n",
       "   age_in_years    area    density  age_cat  high_class captured_date  year  \\\n",
       "0           9.5  0.1575  69.460317        2       False    2020-06-21  2020   \n",
       "1          16.5  0.1875  64.426667        5       False    2020-03-08  2020   \n",
       "2          11.5  0.2158  74.559778        3       False    2020-02-22  2020   \n",
       "3          11.5  0.2856  77.731092        3       False    2020-02-22  2020   \n",
       "4          16.5  0.1872  62.232906        5       False    2020-12-19  2020   \n",
       "\n",
       "   month  day  weekday  age10  shell_by_weekday  \n",
       "0      6   21        6    0.0            0.2215  \n",
       "1      3    8        6    1.0            0.2215  \n",
       "2      2   22        5    1.0            0.2180  \n",
       "3      2   22        5    1.0            0.2180  \n",
       "4     12   19        5    1.0            0.2180  "
      ]
     },
     "execution_count": 92,
     "metadata": {},
     "output_type": "execute_result"
    }
   ],
   "source": [
    "df.head()"
   ]
  },
  {
   "cell_type": "markdown",
   "metadata": {},
   "source": [
    "### Q19.4"
   ]
  },
  {
   "cell_type": "code",
   "execution_count": 93,
   "metadata": {},
   "outputs": [
    {
     "data": {
      "text/plain": [
       "age_cat\n",
       "1    47.250874\n",
       "2    65.854804\n",
       "3    73.550667\n",
       "4    75.959963\n",
       "5    78.651530\n",
       "Name: density, dtype: float64"
      ]
     },
     "execution_count": 93,
     "metadata": {},
     "output_type": "execute_result"
    }
   ],
   "source": [
    "avg_density = df.groupby('age_cat')['density'].mean()\n",
    "avg_density"
   ]
  },
  {
   "cell_type": "code",
   "execution_count": 94,
   "metadata": {},
   "outputs": [],
   "source": [
    "df['density_by_age'] = df['age_cat'].map(avg_density)"
   ]
  },
  {
   "cell_type": "code",
   "execution_count": 95,
   "metadata": {},
   "outputs": [
    {
     "data": {
      "text/html": [
       "<div>\n",
       "<style scoped>\n",
       "    .dataframe tbody tr th:only-of-type {\n",
       "        vertical-align: middle;\n",
       "    }\n",
       "\n",
       "    .dataframe tbody tr th {\n",
       "        vertical-align: top;\n",
       "    }\n",
       "\n",
       "    .dataframe thead th {\n",
       "        text-align: right;\n",
       "    }\n",
       "</style>\n",
       "<table border=\"1\" class=\"dataframe\">\n",
       "  <thead>\n",
       "    <tr style=\"text-align: right;\">\n",
       "      <th></th>\n",
       "      <th>id</th>\n",
       "      <th>FN</th>\n",
       "      <th>SN</th>\n",
       "      <th>LN</th>\n",
       "      <th>Sex</th>\n",
       "      <th>Length</th>\n",
       "      <th>Diam</th>\n",
       "      <th>Height</th>\n",
       "      <th>Whole_weight</th>\n",
       "      <th>Shucke_weight</th>\n",
       "      <th>Viscera_weight</th>\n",
       "      <th>Shell_weight</th>\n",
       "      <th>Rings</th>\n",
       "      <th>full_name</th>\n",
       "      <th>age_in_years</th>\n",
       "      <th>area</th>\n",
       "      <th>density</th>\n",
       "      <th>age_cat</th>\n",
       "      <th>high_class</th>\n",
       "      <th>captured_date</th>\n",
       "      <th>year</th>\n",
       "      <th>month</th>\n",
       "      <th>day</th>\n",
       "      <th>weekday</th>\n",
       "      <th>age10</th>\n",
       "      <th>shell_by_weekday</th>\n",
       "      <th>density_by_age</th>\n",
       "    </tr>\n",
       "  </thead>\n",
       "  <tbody>\n",
       "    <tr>\n",
       "      <th>0</th>\n",
       "      <td>835</td>\n",
       "      <td>Kid</td>\n",
       "      <td>College</td>\n",
       "      <td>Machine</td>\n",
       "      <td>I</td>\n",
       "      <td>0.450</td>\n",
       "      <td>0.350</td>\n",
       "      <td>0.130</td>\n",
       "      <td>0.5470</td>\n",
       "      <td>0.2450</td>\n",
       "      <td>0.1405</td>\n",
       "      <td>0.1405</td>\n",
       "      <td>8.0</td>\n",
       "      <td>Kid College Machine</td>\n",
       "      <td>9.5</td>\n",
       "      <td>0.15750</td>\n",
       "      <td>69.460317</td>\n",
       "      <td>2</td>\n",
       "      <td>False</td>\n",
       "      <td>2020-06-21</td>\n",
       "      <td>2020</td>\n",
       "      <td>6</td>\n",
       "      <td>21</td>\n",
       "      <td>6</td>\n",
       "      <td>0.0</td>\n",
       "      <td>0.2215</td>\n",
       "      <td>65.854804</td>\n",
       "    </tr>\n",
       "    <tr>\n",
       "      <th>1</th>\n",
       "      <td>540</td>\n",
       "      <td>Jalapeno</td>\n",
       "      <td>Glam</td>\n",
       "      <td>Machine</td>\n",
       "      <td>F</td>\n",
       "      <td>0.500</td>\n",
       "      <td>0.375</td>\n",
       "      <td>0.140</td>\n",
       "      <td>0.6040</td>\n",
       "      <td>0.2420</td>\n",
       "      <td>0.1415</td>\n",
       "      <td>0.1790</td>\n",
       "      <td>15.0</td>\n",
       "      <td>Jalapeno Glam Machine</td>\n",
       "      <td>16.5</td>\n",
       "      <td>0.18750</td>\n",
       "      <td>64.426667</td>\n",
       "      <td>5</td>\n",
       "      <td>False</td>\n",
       "      <td>2020-03-08</td>\n",
       "      <td>2020</td>\n",
       "      <td>3</td>\n",
       "      <td>8</td>\n",
       "      <td>6</td>\n",
       "      <td>1.0</td>\n",
       "      <td>0.2215</td>\n",
       "      <td>78.651530</td>\n",
       "    </tr>\n",
       "    <tr>\n",
       "      <th>2</th>\n",
       "      <td>2295</td>\n",
       "      <td>Baby</td>\n",
       "      <td>Full</td>\n",
       "      <td>Killer</td>\n",
       "      <td>F</td>\n",
       "      <td>0.520</td>\n",
       "      <td>0.415</td>\n",
       "      <td>0.145</td>\n",
       "      <td>0.8045</td>\n",
       "      <td>0.3325</td>\n",
       "      <td>0.1725</td>\n",
       "      <td>0.2850</td>\n",
       "      <td>10.0</td>\n",
       "      <td>Baby Full Killer</td>\n",
       "      <td>11.5</td>\n",
       "      <td>0.21580</td>\n",
       "      <td>74.559778</td>\n",
       "      <td>3</td>\n",
       "      <td>False</td>\n",
       "      <td>2020-02-22</td>\n",
       "      <td>2020</td>\n",
       "      <td>2</td>\n",
       "      <td>22</td>\n",
       "      <td>5</td>\n",
       "      <td>1.0</td>\n",
       "      <td>0.2180</td>\n",
       "      <td>73.550667</td>\n",
       "    </tr>\n",
       "    <tr>\n",
       "      <th>3</th>\n",
       "      <td>858</td>\n",
       "      <td>Kid</td>\n",
       "      <td>Rock</td>\n",
       "      <td>Head</td>\n",
       "      <td>F</td>\n",
       "      <td>0.595</td>\n",
       "      <td>0.480</td>\n",
       "      <td>0.150</td>\n",
       "      <td>1.1100</td>\n",
       "      <td>0.4980</td>\n",
       "      <td>0.2280</td>\n",
       "      <td>0.3300</td>\n",
       "      <td>10.0</td>\n",
       "      <td>Kid Rock Head</td>\n",
       "      <td>11.5</td>\n",
       "      <td>0.28560</td>\n",
       "      <td>77.731092</td>\n",
       "      <td>3</td>\n",
       "      <td>False</td>\n",
       "      <td>2020-02-22</td>\n",
       "      <td>2020</td>\n",
       "      <td>2</td>\n",
       "      <td>22</td>\n",
       "      <td>5</td>\n",
       "      <td>1.0</td>\n",
       "      <td>0.2180</td>\n",
       "      <td>73.550667</td>\n",
       "    </tr>\n",
       "    <tr>\n",
       "      <th>4</th>\n",
       "      <td>2329</td>\n",
       "      <td>Boy</td>\n",
       "      <td>Block</td>\n",
       "      <td>Death</td>\n",
       "      <td>I</td>\n",
       "      <td>0.480</td>\n",
       "      <td>0.390</td>\n",
       "      <td>0.145</td>\n",
       "      <td>0.5825</td>\n",
       "      <td>0.2315</td>\n",
       "      <td>0.1210</td>\n",
       "      <td>0.2550</td>\n",
       "      <td>15.0</td>\n",
       "      <td>Boy Block Death</td>\n",
       "      <td>16.5</td>\n",
       "      <td>0.18720</td>\n",
       "      <td>62.232906</td>\n",
       "      <td>5</td>\n",
       "      <td>False</td>\n",
       "      <td>2020-12-19</td>\n",
       "      <td>2020</td>\n",
       "      <td>12</td>\n",
       "      <td>19</td>\n",
       "      <td>5</td>\n",
       "      <td>1.0</td>\n",
       "      <td>0.2180</td>\n",
       "      <td>78.651530</td>\n",
       "    </tr>\n",
       "    <tr>\n",
       "      <th>...</th>\n",
       "      <td>...</td>\n",
       "      <td>...</td>\n",
       "      <td>...</td>\n",
       "      <td>...</td>\n",
       "      <td>...</td>\n",
       "      <td>...</td>\n",
       "      <td>...</td>\n",
       "      <td>...</td>\n",
       "      <td>...</td>\n",
       "      <td>...</td>\n",
       "      <td>...</td>\n",
       "      <td>...</td>\n",
       "      <td>...</td>\n",
       "      <td>...</td>\n",
       "      <td>...</td>\n",
       "      <td>...</td>\n",
       "      <td>...</td>\n",
       "      <td>...</td>\n",
       "      <td>...</td>\n",
       "      <td>...</td>\n",
       "      <td>...</td>\n",
       "      <td>...</td>\n",
       "      <td>...</td>\n",
       "      <td>...</td>\n",
       "      <td>...</td>\n",
       "      <td>...</td>\n",
       "      <td>...</td>\n",
       "    </tr>\n",
       "    <tr>\n",
       "      <th>5695</th>\n",
       "      <td>181</td>\n",
       "      <td>Big</td>\n",
       "      <td>Block</td>\n",
       "      <td>Head</td>\n",
       "      <td>M</td>\n",
       "      <td>0.640</td>\n",
       "      <td>0.510</td>\n",
       "      <td>0.175</td>\n",
       "      <td>1.3680</td>\n",
       "      <td>0.5150</td>\n",
       "      <td>0.2660</td>\n",
       "      <td>0.5700</td>\n",
       "      <td>21.0</td>\n",
       "      <td>Big Block Head</td>\n",
       "      <td>22.5</td>\n",
       "      <td>0.32640</td>\n",
       "      <td>83.823529</td>\n",
       "      <td>5</td>\n",
       "      <td>False</td>\n",
       "      <td>2020-05-12</td>\n",
       "      <td>2020</td>\n",
       "      <td>5</td>\n",
       "      <td>12</td>\n",
       "      <td>1</td>\n",
       "      <td>2.0</td>\n",
       "      <td>0.2290</td>\n",
       "      <td>78.651530</td>\n",
       "    </tr>\n",
       "    <tr>\n",
       "      <th>5696</th>\n",
       "      <td>1324</td>\n",
       "      <td>Jalapeno</td>\n",
       "      <td>Full</td>\n",
       "      <td>Head</td>\n",
       "      <td>I</td>\n",
       "      <td>0.565</td>\n",
       "      <td>0.440</td>\n",
       "      <td>0.175</td>\n",
       "      <td>0.8735</td>\n",
       "      <td>0.4140</td>\n",
       "      <td>0.2100</td>\n",
       "      <td>0.2100</td>\n",
       "      <td>11.0</td>\n",
       "      <td>Jalapeno Full Head</td>\n",
       "      <td>12.5</td>\n",
       "      <td>0.24860</td>\n",
       "      <td>70.273532</td>\n",
       "      <td>4</td>\n",
       "      <td>False</td>\n",
       "      <td>2020-12-15</td>\n",
       "      <td>2020</td>\n",
       "      <td>12</td>\n",
       "      <td>15</td>\n",
       "      <td>1</td>\n",
       "      <td>1.0</td>\n",
       "      <td>0.2290</td>\n",
       "      <td>75.959963</td>\n",
       "    </tr>\n",
       "    <tr>\n",
       "      <th>5697</th>\n",
       "      <td>1242</td>\n",
       "      <td>Lil'</td>\n",
       "      <td>Flow</td>\n",
       "      <td>Machine</td>\n",
       "      <td>I</td>\n",
       "      <td>0.385</td>\n",
       "      <td>0.290</td>\n",
       "      <td>0.090</td>\n",
       "      <td>0.2615</td>\n",
       "      <td>0.1110</td>\n",
       "      <td>0.0595</td>\n",
       "      <td>0.0745</td>\n",
       "      <td>9.0</td>\n",
       "      <td>Lil' Flow Machine</td>\n",
       "      <td>10.5</td>\n",
       "      <td>0.11165</td>\n",
       "      <td>46.842812</td>\n",
       "      <td>2</td>\n",
       "      <td>False</td>\n",
       "      <td>2020-12-06</td>\n",
       "      <td>2020</td>\n",
       "      <td>12</td>\n",
       "      <td>6</td>\n",
       "      <td>6</td>\n",
       "      <td>1.0</td>\n",
       "      <td>0.2215</td>\n",
       "      <td>65.854804</td>\n",
       "    </tr>\n",
       "    <tr>\n",
       "      <th>5698</th>\n",
       "      <td>2842</td>\n",
       "      <td>Boss</td>\n",
       "      <td>Full</td>\n",
       "      <td>Killer</td>\n",
       "      <td>M</td>\n",
       "      <td>0.600</td>\n",
       "      <td>0.475</td>\n",
       "      <td>0.175</td>\n",
       "      <td>1.1100</td>\n",
       "      <td>0.5105</td>\n",
       "      <td>0.2560</td>\n",
       "      <td>0.2850</td>\n",
       "      <td>9.0</td>\n",
       "      <td>Boss Full Killer</td>\n",
       "      <td>10.5</td>\n",
       "      <td>0.28500</td>\n",
       "      <td>77.894737</td>\n",
       "      <td>2</td>\n",
       "      <td>False</td>\n",
       "      <td>2020-01-01</td>\n",
       "      <td>2020</td>\n",
       "      <td>1</td>\n",
       "      <td>1</td>\n",
       "      <td>2</td>\n",
       "      <td>1.0</td>\n",
       "      <td>0.2280</td>\n",
       "      <td>65.854804</td>\n",
       "    </tr>\n",
       "    <tr>\n",
       "      <th>5699</th>\n",
       "      <td>2071</td>\n",
       "      <td>Baby</td>\n",
       "      <td>Glock</td>\n",
       "      <td>Machine</td>\n",
       "      <td>F</td>\n",
       "      <td>0.565</td>\n",
       "      <td>0.440</td>\n",
       "      <td>0.135</td>\n",
       "      <td>0.8300</td>\n",
       "      <td>0.3930</td>\n",
       "      <td>0.1735</td>\n",
       "      <td>0.2380</td>\n",
       "      <td>9.0</td>\n",
       "      <td>Baby Glock Machine</td>\n",
       "      <td>10.5</td>\n",
       "      <td>0.24860</td>\n",
       "      <td>66.773934</td>\n",
       "      <td>2</td>\n",
       "      <td>False</td>\n",
       "      <td>2020-01-19</td>\n",
       "      <td>2020</td>\n",
       "      <td>1</td>\n",
       "      <td>19</td>\n",
       "      <td>6</td>\n",
       "      <td>1.0</td>\n",
       "      <td>0.2215</td>\n",
       "      <td>65.854804</td>\n",
       "    </tr>\n",
       "  </tbody>\n",
       "</table>\n",
       "<p>4180 rows × 27 columns</p>\n",
       "</div>"
      ],
      "text/plain": [
       "        id        FN       SN       LN Sex  Length   Diam  Height  \\\n",
       "0      835       Kid  College  Machine   I   0.450  0.350   0.130   \n",
       "1      540  Jalapeno     Glam  Machine   F   0.500  0.375   0.140   \n",
       "2     2295      Baby     Full   Killer   F   0.520  0.415   0.145   \n",
       "3      858       Kid     Rock     Head   F   0.595  0.480   0.150   \n",
       "4     2329       Boy    Block    Death   I   0.480  0.390   0.145   \n",
       "...    ...       ...      ...      ...  ..     ...    ...     ...   \n",
       "5695   181       Big    Block     Head   M   0.640  0.510   0.175   \n",
       "5696  1324  Jalapeno     Full     Head   I   0.565  0.440   0.175   \n",
       "5697  1242      Lil'     Flow  Machine   I   0.385  0.290   0.090   \n",
       "5698  2842      Boss     Full   Killer   M   0.600  0.475   0.175   \n",
       "5699  2071      Baby    Glock  Machine   F   0.565  0.440   0.135   \n",
       "\n",
       "      Whole_weight  Shucke_weight  Viscera_weight  Shell_weight  Rings  \\\n",
       "0           0.5470         0.2450          0.1405        0.1405    8.0   \n",
       "1           0.6040         0.2420          0.1415        0.1790   15.0   \n",
       "2           0.8045         0.3325          0.1725        0.2850   10.0   \n",
       "3           1.1100         0.4980          0.2280        0.3300   10.0   \n",
       "4           0.5825         0.2315          0.1210        0.2550   15.0   \n",
       "...            ...            ...             ...           ...    ...   \n",
       "5695        1.3680         0.5150          0.2660        0.5700   21.0   \n",
       "5696        0.8735         0.4140          0.2100        0.2100   11.0   \n",
       "5697        0.2615         0.1110          0.0595        0.0745    9.0   \n",
       "5698        1.1100         0.5105          0.2560        0.2850    9.0   \n",
       "5699        0.8300         0.3930          0.1735        0.2380    9.0   \n",
       "\n",
       "                  full_name  age_in_years     area    density  age_cat  \\\n",
       "0       Kid College Machine           9.5  0.15750  69.460317        2   \n",
       "1     Jalapeno Glam Machine          16.5  0.18750  64.426667        5   \n",
       "2          Baby Full Killer          11.5  0.21580  74.559778        3   \n",
       "3             Kid Rock Head          11.5  0.28560  77.731092        3   \n",
       "4           Boy Block Death          16.5  0.18720  62.232906        5   \n",
       "...                     ...           ...      ...        ...      ...   \n",
       "5695         Big Block Head          22.5  0.32640  83.823529        5   \n",
       "5696     Jalapeno Full Head          12.5  0.24860  70.273532        4   \n",
       "5697      Lil' Flow Machine          10.5  0.11165  46.842812        2   \n",
       "5698       Boss Full Killer          10.5  0.28500  77.894737        2   \n",
       "5699     Baby Glock Machine          10.5  0.24860  66.773934        2   \n",
       "\n",
       "      high_class captured_date  year  month  day  weekday  age10  \\\n",
       "0          False    2020-06-21  2020      6   21        6    0.0   \n",
       "1          False    2020-03-08  2020      3    8        6    1.0   \n",
       "2          False    2020-02-22  2020      2   22        5    1.0   \n",
       "3          False    2020-02-22  2020      2   22        5    1.0   \n",
       "4          False    2020-12-19  2020     12   19        5    1.0   \n",
       "...          ...           ...   ...    ...  ...      ...    ...   \n",
       "5695       False    2020-05-12  2020      5   12        1    2.0   \n",
       "5696       False    2020-12-15  2020     12   15        1    1.0   \n",
       "5697       False    2020-12-06  2020     12    6        6    1.0   \n",
       "5698       False    2020-01-01  2020      1    1        2    1.0   \n",
       "5699       False    2020-01-19  2020      1   19        6    1.0   \n",
       "\n",
       "      shell_by_weekday  density_by_age  \n",
       "0               0.2215       65.854804  \n",
       "1               0.2215       78.651530  \n",
       "2               0.2180       73.550667  \n",
       "3               0.2180       73.550667  \n",
       "4               0.2180       78.651530  \n",
       "...                ...             ...  \n",
       "5695            0.2290       78.651530  \n",
       "5696            0.2290       75.959963  \n",
       "5697            0.2215       65.854804  \n",
       "5698            0.2280       65.854804  \n",
       "5699            0.2215       65.854804  \n",
       "\n",
       "[4180 rows x 27 columns]"
      ]
     },
     "execution_count": 95,
     "metadata": {},
     "output_type": "execute_result"
    }
   ],
   "source": [
    "df"
   ]
  },
  {
   "cell_type": "code",
   "execution_count": null,
   "metadata": {},
   "outputs": [],
   "source": []
  },
  {
   "cell_type": "code",
   "execution_count": null,
   "metadata": {},
   "outputs": [],
   "source": []
  },
  {
   "cell_type": "code",
   "execution_count": 96,
   "metadata": {
    "id": "ZIKPaeH_fIfj"
   },
   "outputs": [],
   "source": [
    "# Create some other groupby features\n",
    "# for this task check out this answer:\n",
    "# https://stackoverflow.com/questions/47913343/how-to-groupby-and-map-by-two-columns-pandas-dataframe\n",
    "\n",
    "### ALL\n",
    "# Q20.1 `rings_fn` groupby `n_rings` and count average number of occurences of every unique first name\n",
    "# Q20.2 `n_month` groupby `month` and count number of captured in each month"
   ]
  },
  {
   "cell_type": "markdown",
   "metadata": {},
   "source": [
    "### Q20.1"
   ]
  },
  {
   "cell_type": "code",
   "execution_count": 97,
   "metadata": {},
   "outputs": [
    {
     "data": {
      "text/plain": [
       "Rings\n",
       "1.0    0.083333\n",
       "2.0    0.083333\n",
       "3.0    1.250000\n",
       "4.0    4.750000\n",
       "5.0    9.583333\n",
       "dtype: float64"
      ]
     },
     "execution_count": 97,
     "metadata": {},
     "output_type": "execute_result"
    }
   ],
   "source": [
    "num_of_occ = df.groupby('Rings').size() / df.FN.nunique()\n",
    "num_of_occ[:5]"
   ]
  },
  {
   "cell_type": "code",
   "execution_count": 98,
   "metadata": {},
   "outputs": [
    {
     "data": {
      "text/html": [
       "<div>\n",
       "<style scoped>\n",
       "    .dataframe tbody tr th:only-of-type {\n",
       "        vertical-align: middle;\n",
       "    }\n",
       "\n",
       "    .dataframe tbody tr th {\n",
       "        vertical-align: top;\n",
       "    }\n",
       "\n",
       "    .dataframe thead th {\n",
       "        text-align: right;\n",
       "    }\n",
       "</style>\n",
       "<table border=\"1\" class=\"dataframe\">\n",
       "  <thead>\n",
       "    <tr style=\"text-align: right;\">\n",
       "      <th></th>\n",
       "      <th>id</th>\n",
       "      <th>FN</th>\n",
       "      <th>SN</th>\n",
       "      <th>LN</th>\n",
       "      <th>Sex</th>\n",
       "      <th>Length</th>\n",
       "      <th>Diam</th>\n",
       "      <th>Height</th>\n",
       "      <th>Whole_weight</th>\n",
       "      <th>Shucke_weight</th>\n",
       "      <th>Viscera_weight</th>\n",
       "      <th>Shell_weight</th>\n",
       "      <th>Rings</th>\n",
       "      <th>full_name</th>\n",
       "      <th>age_in_years</th>\n",
       "      <th>area</th>\n",
       "      <th>density</th>\n",
       "      <th>age_cat</th>\n",
       "      <th>high_class</th>\n",
       "      <th>captured_date</th>\n",
       "      <th>year</th>\n",
       "      <th>month</th>\n",
       "      <th>day</th>\n",
       "      <th>weekday</th>\n",
       "      <th>age10</th>\n",
       "      <th>shell_by_weekday</th>\n",
       "      <th>density_by_age</th>\n",
       "      <th>rings_fn</th>\n",
       "    </tr>\n",
       "  </thead>\n",
       "  <tbody>\n",
       "    <tr>\n",
       "      <th>0</th>\n",
       "      <td>835</td>\n",
       "      <td>Kid</td>\n",
       "      <td>College</td>\n",
       "      <td>Machine</td>\n",
       "      <td>I</td>\n",
       "      <td>0.450</td>\n",
       "      <td>0.350</td>\n",
       "      <td>0.130</td>\n",
       "      <td>0.5470</td>\n",
       "      <td>0.2450</td>\n",
       "      <td>0.1405</td>\n",
       "      <td>0.1405</td>\n",
       "      <td>8.0</td>\n",
       "      <td>Kid College Machine</td>\n",
       "      <td>9.5</td>\n",
       "      <td>0.1575</td>\n",
       "      <td>69.460317</td>\n",
       "      <td>2</td>\n",
       "      <td>False</td>\n",
       "      <td>2020-06-21</td>\n",
       "      <td>2020</td>\n",
       "      <td>6</td>\n",
       "      <td>21</td>\n",
       "      <td>6</td>\n",
       "      <td>0.0</td>\n",
       "      <td>0.2215</td>\n",
       "      <td>65.854804</td>\n",
       "      <td>47.333333</td>\n",
       "    </tr>\n",
       "    <tr>\n",
       "      <th>1</th>\n",
       "      <td>540</td>\n",
       "      <td>Jalapeno</td>\n",
       "      <td>Glam</td>\n",
       "      <td>Machine</td>\n",
       "      <td>F</td>\n",
       "      <td>0.500</td>\n",
       "      <td>0.375</td>\n",
       "      <td>0.140</td>\n",
       "      <td>0.6040</td>\n",
       "      <td>0.2420</td>\n",
       "      <td>0.1415</td>\n",
       "      <td>0.1790</td>\n",
       "      <td>15.0</td>\n",
       "      <td>Jalapeno Glam Machine</td>\n",
       "      <td>16.5</td>\n",
       "      <td>0.1875</td>\n",
       "      <td>64.426667</td>\n",
       "      <td>5</td>\n",
       "      <td>False</td>\n",
       "      <td>2020-03-08</td>\n",
       "      <td>2020</td>\n",
       "      <td>3</td>\n",
       "      <td>8</td>\n",
       "      <td>6</td>\n",
       "      <td>1.0</td>\n",
       "      <td>0.2215</td>\n",
       "      <td>78.651530</td>\n",
       "      <td>8.583333</td>\n",
       "    </tr>\n",
       "    <tr>\n",
       "      <th>2</th>\n",
       "      <td>2295</td>\n",
       "      <td>Baby</td>\n",
       "      <td>Full</td>\n",
       "      <td>Killer</td>\n",
       "      <td>F</td>\n",
       "      <td>0.520</td>\n",
       "      <td>0.415</td>\n",
       "      <td>0.145</td>\n",
       "      <td>0.8045</td>\n",
       "      <td>0.3325</td>\n",
       "      <td>0.1725</td>\n",
       "      <td>0.2850</td>\n",
       "      <td>10.0</td>\n",
       "      <td>Baby Full Killer</td>\n",
       "      <td>11.5</td>\n",
       "      <td>0.2158</td>\n",
       "      <td>74.559778</td>\n",
       "      <td>3</td>\n",
       "      <td>False</td>\n",
       "      <td>2020-02-22</td>\n",
       "      <td>2020</td>\n",
       "      <td>2</td>\n",
       "      <td>22</td>\n",
       "      <td>5</td>\n",
       "      <td>1.0</td>\n",
       "      <td>0.2180</td>\n",
       "      <td>73.550667</td>\n",
       "      <td>52.833333</td>\n",
       "    </tr>\n",
       "    <tr>\n",
       "      <th>3</th>\n",
       "      <td>858</td>\n",
       "      <td>Kid</td>\n",
       "      <td>Rock</td>\n",
       "      <td>Head</td>\n",
       "      <td>F</td>\n",
       "      <td>0.595</td>\n",
       "      <td>0.480</td>\n",
       "      <td>0.150</td>\n",
       "      <td>1.1100</td>\n",
       "      <td>0.4980</td>\n",
       "      <td>0.2280</td>\n",
       "      <td>0.3300</td>\n",
       "      <td>10.0</td>\n",
       "      <td>Kid Rock Head</td>\n",
       "      <td>11.5</td>\n",
       "      <td>0.2856</td>\n",
       "      <td>77.731092</td>\n",
       "      <td>3</td>\n",
       "      <td>False</td>\n",
       "      <td>2020-02-22</td>\n",
       "      <td>2020</td>\n",
       "      <td>2</td>\n",
       "      <td>22</td>\n",
       "      <td>5</td>\n",
       "      <td>1.0</td>\n",
       "      <td>0.2180</td>\n",
       "      <td>73.550667</td>\n",
       "      <td>52.833333</td>\n",
       "    </tr>\n",
       "    <tr>\n",
       "      <th>4</th>\n",
       "      <td>2329</td>\n",
       "      <td>Boy</td>\n",
       "      <td>Block</td>\n",
       "      <td>Death</td>\n",
       "      <td>I</td>\n",
       "      <td>0.480</td>\n",
       "      <td>0.390</td>\n",
       "      <td>0.145</td>\n",
       "      <td>0.5825</td>\n",
       "      <td>0.2315</td>\n",
       "      <td>0.1210</td>\n",
       "      <td>0.2550</td>\n",
       "      <td>15.0</td>\n",
       "      <td>Boy Block Death</td>\n",
       "      <td>16.5</td>\n",
       "      <td>0.1872</td>\n",
       "      <td>62.232906</td>\n",
       "      <td>5</td>\n",
       "      <td>False</td>\n",
       "      <td>2020-12-19</td>\n",
       "      <td>2020</td>\n",
       "      <td>12</td>\n",
       "      <td>19</td>\n",
       "      <td>5</td>\n",
       "      <td>1.0</td>\n",
       "      <td>0.2180</td>\n",
       "      <td>78.651530</td>\n",
       "      <td>8.583333</td>\n",
       "    </tr>\n",
       "  </tbody>\n",
       "</table>\n",
       "</div>"
      ],
      "text/plain": [
       "     id        FN       SN       LN Sex  Length   Diam  Height  Whole_weight  \\\n",
       "0   835       Kid  College  Machine   I   0.450  0.350   0.130        0.5470   \n",
       "1   540  Jalapeno     Glam  Machine   F   0.500  0.375   0.140        0.6040   \n",
       "2  2295      Baby     Full   Killer   F   0.520  0.415   0.145        0.8045   \n",
       "3   858       Kid     Rock     Head   F   0.595  0.480   0.150        1.1100   \n",
       "4  2329       Boy    Block    Death   I   0.480  0.390   0.145        0.5825   \n",
       "\n",
       "   Shucke_weight  Viscera_weight  Shell_weight  Rings              full_name  \\\n",
       "0         0.2450          0.1405        0.1405    8.0    Kid College Machine   \n",
       "1         0.2420          0.1415        0.1790   15.0  Jalapeno Glam Machine   \n",
       "2         0.3325          0.1725        0.2850   10.0       Baby Full Killer   \n",
       "3         0.4980          0.2280        0.3300   10.0          Kid Rock Head   \n",
       "4         0.2315          0.1210        0.2550   15.0        Boy Block Death   \n",
       "\n",
       "   age_in_years    area    density  age_cat  high_class captured_date  year  \\\n",
       "0           9.5  0.1575  69.460317        2       False    2020-06-21  2020   \n",
       "1          16.5  0.1875  64.426667        5       False    2020-03-08  2020   \n",
       "2          11.5  0.2158  74.559778        3       False    2020-02-22  2020   \n",
       "3          11.5  0.2856  77.731092        3       False    2020-02-22  2020   \n",
       "4          16.5  0.1872  62.232906        5       False    2020-12-19  2020   \n",
       "\n",
       "   month  day  weekday  age10  shell_by_weekday  density_by_age   rings_fn  \n",
       "0      6   21        6    0.0            0.2215       65.854804  47.333333  \n",
       "1      3    8        6    1.0            0.2215       78.651530   8.583333  \n",
       "2      2   22        5    1.0            0.2180       73.550667  52.833333  \n",
       "3      2   22        5    1.0            0.2180       73.550667  52.833333  \n",
       "4     12   19        5    1.0            0.2180       78.651530   8.583333  "
      ]
     },
     "execution_count": 98,
     "metadata": {},
     "output_type": "execute_result"
    }
   ],
   "source": [
    "df['rings_fn'] = df['Rings'].map(num_of_occ)\n",
    "df.head()"
   ]
  },
  {
   "cell_type": "markdown",
   "metadata": {},
   "source": [
    "### Q20.2"
   ]
  },
  {
   "cell_type": "code",
   "execution_count": 99,
   "metadata": {},
   "outputs": [],
   "source": [
    "num = df.groupby('month')['FN'].count()\n",
    "df['n_month'] = df['month'].map(num)"
   ]
  },
  {
   "cell_type": "code",
   "execution_count": null,
   "metadata": {},
   "outputs": [],
   "source": []
  },
  {
   "cell_type": "code",
   "execution_count": null,
   "metadata": {},
   "outputs": [],
   "source": []
  },
  {
   "cell_type": "markdown",
   "metadata": {
    "id": "_Y3IX6U1fOVI"
   },
   "source": [
    "# 7. Building a regression model\n",
    "\n",
    "- You do not need to normalize data for tree models, and for linear/knn models this step is essential.\n",
    "- Remember, that not all of the features in the table are numeric, some of them might be viewed as categorical.\n",
    "-You may create or drop any features you want, except for the features which use age or number of rings (e.g. average number of rings from a clam of high class).\n",
    "\n"
   ]
  },
  {
   "cell_type": "code",
   "execution_count": 100,
   "metadata": {
    "id": "AwdbUu2wYKpB"
   },
   "outputs": [
    {
     "data": {
      "text/html": [
       "<div>\n",
       "<style scoped>\n",
       "    .dataframe tbody tr th:only-of-type {\n",
       "        vertical-align: middle;\n",
       "    }\n",
       "\n",
       "    .dataframe tbody tr th {\n",
       "        vertical-align: top;\n",
       "    }\n",
       "\n",
       "    .dataframe thead th {\n",
       "        text-align: right;\n",
       "    }\n",
       "</style>\n",
       "<table border=\"1\" class=\"dataframe\">\n",
       "  <thead>\n",
       "    <tr style=\"text-align: right;\">\n",
       "      <th></th>\n",
       "      <th>id</th>\n",
       "      <th>FN</th>\n",
       "      <th>SN</th>\n",
       "      <th>LN</th>\n",
       "      <th>Sex</th>\n",
       "      <th>Length</th>\n",
       "      <th>Diam</th>\n",
       "      <th>Height</th>\n",
       "      <th>Whole_weight</th>\n",
       "      <th>Shucke_weight</th>\n",
       "      <th>Viscera_weight</th>\n",
       "      <th>Shell_weight</th>\n",
       "      <th>full_name</th>\n",
       "      <th>area</th>\n",
       "      <th>density</th>\n",
       "      <th>high_class</th>\n",
       "      <th>captured_date</th>\n",
       "      <th>year</th>\n",
       "      <th>month</th>\n",
       "      <th>day</th>\n",
       "      <th>weekday</th>\n",
       "      <th>shell_by_weekday</th>\n",
       "      <th>n_month</th>\n",
       "    </tr>\n",
       "  </thead>\n",
       "  <tbody>\n",
       "    <tr>\n",
       "      <th>0</th>\n",
       "      <td>835</td>\n",
       "      <td>Kid</td>\n",
       "      <td>College</td>\n",
       "      <td>Machine</td>\n",
       "      <td>I</td>\n",
       "      <td>0.450</td>\n",
       "      <td>0.350</td>\n",
       "      <td>0.130</td>\n",
       "      <td>0.5470</td>\n",
       "      <td>0.2450</td>\n",
       "      <td>0.1405</td>\n",
       "      <td>0.1405</td>\n",
       "      <td>Kid College Machine</td>\n",
       "      <td>0.1575</td>\n",
       "      <td>69.460317</td>\n",
       "      <td>False</td>\n",
       "      <td>2020-06-21</td>\n",
       "      <td>2020</td>\n",
       "      <td>6</td>\n",
       "      <td>21</td>\n",
       "      <td>6</td>\n",
       "      <td>0.2215</td>\n",
       "      <td>343</td>\n",
       "    </tr>\n",
       "    <tr>\n",
       "      <th>1</th>\n",
       "      <td>540</td>\n",
       "      <td>Jalapeno</td>\n",
       "      <td>Glam</td>\n",
       "      <td>Machine</td>\n",
       "      <td>F</td>\n",
       "      <td>0.500</td>\n",
       "      <td>0.375</td>\n",
       "      <td>0.140</td>\n",
       "      <td>0.6040</td>\n",
       "      <td>0.2420</td>\n",
       "      <td>0.1415</td>\n",
       "      <td>0.1790</td>\n",
       "      <td>Jalapeno Glam Machine</td>\n",
       "      <td>0.1875</td>\n",
       "      <td>64.426667</td>\n",
       "      <td>False</td>\n",
       "      <td>2020-03-08</td>\n",
       "      <td>2020</td>\n",
       "      <td>3</td>\n",
       "      <td>8</td>\n",
       "      <td>6</td>\n",
       "      <td>0.2215</td>\n",
       "      <td>390</td>\n",
       "    </tr>\n",
       "    <tr>\n",
       "      <th>2</th>\n",
       "      <td>2295</td>\n",
       "      <td>Baby</td>\n",
       "      <td>Full</td>\n",
       "      <td>Killer</td>\n",
       "      <td>F</td>\n",
       "      <td>0.520</td>\n",
       "      <td>0.415</td>\n",
       "      <td>0.145</td>\n",
       "      <td>0.8045</td>\n",
       "      <td>0.3325</td>\n",
       "      <td>0.1725</td>\n",
       "      <td>0.2850</td>\n",
       "      <td>Baby Full Killer</td>\n",
       "      <td>0.2158</td>\n",
       "      <td>74.559778</td>\n",
       "      <td>False</td>\n",
       "      <td>2020-02-22</td>\n",
       "      <td>2020</td>\n",
       "      <td>2</td>\n",
       "      <td>22</td>\n",
       "      <td>5</td>\n",
       "      <td>0.2180</td>\n",
       "      <td>358</td>\n",
       "    </tr>\n",
       "    <tr>\n",
       "      <th>3</th>\n",
       "      <td>858</td>\n",
       "      <td>Kid</td>\n",
       "      <td>Rock</td>\n",
       "      <td>Head</td>\n",
       "      <td>F</td>\n",
       "      <td>0.595</td>\n",
       "      <td>0.480</td>\n",
       "      <td>0.150</td>\n",
       "      <td>1.1100</td>\n",
       "      <td>0.4980</td>\n",
       "      <td>0.2280</td>\n",
       "      <td>0.3300</td>\n",
       "      <td>Kid Rock Head</td>\n",
       "      <td>0.2856</td>\n",
       "      <td>77.731092</td>\n",
       "      <td>False</td>\n",
       "      <td>2020-02-22</td>\n",
       "      <td>2020</td>\n",
       "      <td>2</td>\n",
       "      <td>22</td>\n",
       "      <td>5</td>\n",
       "      <td>0.2180</td>\n",
       "      <td>358</td>\n",
       "    </tr>\n",
       "    <tr>\n",
       "      <th>4</th>\n",
       "      <td>2329</td>\n",
       "      <td>Boy</td>\n",
       "      <td>Block</td>\n",
       "      <td>Death</td>\n",
       "      <td>I</td>\n",
       "      <td>0.480</td>\n",
       "      <td>0.390</td>\n",
       "      <td>0.145</td>\n",
       "      <td>0.5825</td>\n",
       "      <td>0.2315</td>\n",
       "      <td>0.1210</td>\n",
       "      <td>0.2550</td>\n",
       "      <td>Boy Block Death</td>\n",
       "      <td>0.1872</td>\n",
       "      <td>62.232906</td>\n",
       "      <td>False</td>\n",
       "      <td>2020-12-19</td>\n",
       "      <td>2020</td>\n",
       "      <td>12</td>\n",
       "      <td>19</td>\n",
       "      <td>5</td>\n",
       "      <td>0.2180</td>\n",
       "      <td>331</td>\n",
       "    </tr>\n",
       "  </tbody>\n",
       "</table>\n",
       "</div>"
      ],
      "text/plain": [
       "     id        FN       SN       LN Sex  Length   Diam  Height  Whole_weight  \\\n",
       "0   835       Kid  College  Machine   I   0.450  0.350   0.130        0.5470   \n",
       "1   540  Jalapeno     Glam  Machine   F   0.500  0.375   0.140        0.6040   \n",
       "2  2295      Baby     Full   Killer   F   0.520  0.415   0.145        0.8045   \n",
       "3   858       Kid     Rock     Head   F   0.595  0.480   0.150        1.1100   \n",
       "4  2329       Boy    Block    Death   I   0.480  0.390   0.145        0.5825   \n",
       "\n",
       "   Shucke_weight  Viscera_weight  Shell_weight              full_name    area  \\\n",
       "0         0.2450          0.1405        0.1405    Kid College Machine  0.1575   \n",
       "1         0.2420          0.1415        0.1790  Jalapeno Glam Machine  0.1875   \n",
       "2         0.3325          0.1725        0.2850       Baby Full Killer  0.2158   \n",
       "3         0.4980          0.2280        0.3300          Kid Rock Head  0.2856   \n",
       "4         0.2315          0.1210        0.2550        Boy Block Death  0.1872   \n",
       "\n",
       "     density  high_class captured_date  year  month  day  weekday  \\\n",
       "0  69.460317       False    2020-06-21  2020      6   21        6   \n",
       "1  64.426667       False    2020-03-08  2020      3    8        6   \n",
       "2  74.559778       False    2020-02-22  2020      2   22        5   \n",
       "3  77.731092       False    2020-02-22  2020      2   22        5   \n",
       "4  62.232906       False    2020-12-19  2020     12   19        5   \n",
       "\n",
       "   shell_by_weekday  n_month  \n",
       "0            0.2215      343  \n",
       "1            0.2215      390  \n",
       "2            0.2180      358  \n",
       "3            0.2180      358  \n",
       "4            0.2180      331  "
      ]
     },
     "execution_count": 100,
     "metadata": {},
     "output_type": "execute_result"
    }
   ],
   "source": [
    "# Q21 Drop all generated features which used age or number of rings column, e.g. rings_month, age_cat.\n",
    "Y = df[\"age_in_years\"].values\n",
    "\n",
    "Xdf = df.drop(df.filter(regex=r'rings|age(?i)').columns, axis=1)\n",
    "Xdf.head()"
   ]
  },
  {
   "cell_type": "code",
   "execution_count": 101,
   "metadata": {
    "id": "kINHDN92rzUP"
   },
   "outputs": [],
   "source": [
    "# Optionally create or drop any features "
   ]
  },
  {
   "cell_type": "code",
   "execution_count": 102,
   "metadata": {},
   "outputs": [],
   "source": [
    "# drop useless cols\n",
    "del Xdf['full_name']\n",
    "del Xdf['captured_date']\n",
    "del Xdf['id']\n",
    "del Xdf['year'] # in our case only 2020"
   ]
  },
  {
   "cell_type": "markdown",
   "metadata": {},
   "source": [
    "Let's see on the corr feature-matrics"
   ]
  },
  {
   "cell_type": "code",
   "execution_count": 103,
   "metadata": {},
   "outputs": [],
   "source": [
    "import seaborn as sns\n",
    "import matplotlib.pyplot as plt"
   ]
  },
  {
   "cell_type": "code",
   "execution_count": 104,
   "metadata": {},
   "outputs": [
    {
     "data": {
      "image/png": "[encoded data removed]",
      "text/plain": [
       "<Figure size 1152x360 with 2 Axes>"
      ]
     },
     "metadata": {
      "needs_background": "light"
     },
     "output_type": "display_data"
    }
   ],
   "source": [
    "plt.figure(figsize = (16, 5))\n",
    "ax = sns.heatmap(Xdf.dropna().corr(), annot=True)"
   ]
  },
  {
   "cell_type": "markdown",
   "metadata": {},
   "source": [
    "Let's encode categorical features using dummie encoding"
   ]
  },
  {
   "cell_type": "code",
   "execution_count": 105,
   "metadata": {},
   "outputs": [],
   "source": [
    "Xdf = pd.get_dummies(Xdf, columns=['FN', 'SN', 'LN'])"
   ]
  },
  {
   "cell_type": "code",
   "execution_count": 106,
   "metadata": {},
   "outputs": [],
   "source": [
    "Xdf = pd.get_dummies(Xdf, columns=['Sex'])"
   ]
  },
  {
   "cell_type": "code",
   "execution_count": 107,
   "metadata": {},
   "outputs": [],
   "source": [
    "# The last column is extra for encoding three features, so just drop it\n",
    "Xdf = Xdf.drop(columns=df.columns[-1], axis=1) "
   ]
  },
  {
   "cell_type": "code",
   "execution_count": 108,
   "metadata": {},
   "outputs": [],
   "source": [
    "X = Xdf.values"
   ]
  },
  {
   "cell_type": "code",
   "execution_count": 109,
   "metadata": {},
   "outputs": [
    {
     "data": {
      "text/html": [
       "<div>\n",
       "<style scoped>\n",
       "    .dataframe tbody tr th:only-of-type {\n",
       "        vertical-align: middle;\n",
       "    }\n",
       "\n",
       "    .dataframe tbody tr th {\n",
       "        vertical-align: top;\n",
       "    }\n",
       "\n",
       "    .dataframe thead th {\n",
       "        text-align: right;\n",
       "    }\n",
       "</style>\n",
       "<table border=\"1\" class=\"dataframe\">\n",
       "  <thead>\n",
       "    <tr style=\"text-align: right;\">\n",
       "      <th></th>\n",
       "      <th>Length</th>\n",
       "      <th>Diam</th>\n",
       "      <th>Height</th>\n",
       "      <th>Whole_weight</th>\n",
       "      <th>Shucke_weight</th>\n",
       "      <th>Viscera_weight</th>\n",
       "      <th>Shell_weight</th>\n",
       "      <th>area</th>\n",
       "      <th>density</th>\n",
       "      <th>high_class</th>\n",
       "      <th>month</th>\n",
       "      <th>day</th>\n",
       "      <th>weekday</th>\n",
       "      <th>shell_by_weekday</th>\n",
       "      <th>FN_Baby</th>\n",
       "      <th>...</th>\n",
       "      <th>SN_Flow</th>\n",
       "      <th>SN_Full</th>\n",
       "      <th>SN_Glam</th>\n",
       "      <th>SN_Glock</th>\n",
       "      <th>SN_Rock</th>\n",
       "      <th>LN_Death</th>\n",
       "      <th>LN_Head</th>\n",
       "      <th>LN_Killer</th>\n",
       "      <th>LN_Kitty</th>\n",
       "      <th>LN_Machine</th>\n",
       "      <th>LN_Man</th>\n",
       "      <th>LN_Master</th>\n",
       "      <th>Sex_F</th>\n",
       "      <th>Sex_I</th>\n",
       "      <th>Sex_M</th>\n",
       "    </tr>\n",
       "  </thead>\n",
       "  <tbody>\n",
       "    <tr>\n",
       "      <th>0</th>\n",
       "      <td>0.450</td>\n",
       "      <td>0.350</td>\n",
       "      <td>0.130</td>\n",
       "      <td>0.5470</td>\n",
       "      <td>0.2450</td>\n",
       "      <td>0.1405</td>\n",
       "      <td>0.1405</td>\n",
       "      <td>0.15750</td>\n",
       "      <td>69.460317</td>\n",
       "      <td>False</td>\n",
       "      <td>6</td>\n",
       "      <td>21</td>\n",
       "      <td>6</td>\n",
       "      <td>0.2215</td>\n",
       "      <td>0</td>\n",
       "      <td>...</td>\n",
       "      <td>0</td>\n",
       "      <td>0</td>\n",
       "      <td>0</td>\n",
       "      <td>0</td>\n",
       "      <td>0</td>\n",
       "      <td>0</td>\n",
       "      <td>0</td>\n",
       "      <td>0</td>\n",
       "      <td>0</td>\n",
       "      <td>1</td>\n",
       "      <td>0</td>\n",
       "      <td>0</td>\n",
       "      <td>0</td>\n",
       "      <td>1</td>\n",
       "      <td>0</td>\n",
       "    </tr>\n",
       "    <tr>\n",
       "      <th>1</th>\n",
       "      <td>0.500</td>\n",
       "      <td>0.375</td>\n",
       "      <td>0.140</td>\n",
       "      <td>0.6040</td>\n",
       "      <td>0.2420</td>\n",
       "      <td>0.1415</td>\n",
       "      <td>0.1790</td>\n",
       "      <td>0.18750</td>\n",
       "      <td>64.426667</td>\n",
       "      <td>False</td>\n",
       "      <td>3</td>\n",
       "      <td>8</td>\n",
       "      <td>6</td>\n",
       "      <td>0.2215</td>\n",
       "      <td>0</td>\n",
       "      <td>...</td>\n",
       "      <td>0</td>\n",
       "      <td>0</td>\n",
       "      <td>1</td>\n",
       "      <td>0</td>\n",
       "      <td>0</td>\n",
       "      <td>0</td>\n",
       "      <td>0</td>\n",
       "      <td>0</td>\n",
       "      <td>0</td>\n",
       "      <td>1</td>\n",
       "      <td>0</td>\n",
       "      <td>0</td>\n",
       "      <td>1</td>\n",
       "      <td>0</td>\n",
       "      <td>0</td>\n",
       "    </tr>\n",
       "    <tr>\n",
       "      <th>2</th>\n",
       "      <td>0.520</td>\n",
       "      <td>0.415</td>\n",
       "      <td>0.145</td>\n",
       "      <td>0.8045</td>\n",
       "      <td>0.3325</td>\n",
       "      <td>0.1725</td>\n",
       "      <td>0.2850</td>\n",
       "      <td>0.21580</td>\n",
       "      <td>74.559778</td>\n",
       "      <td>False</td>\n",
       "      <td>2</td>\n",
       "      <td>22</td>\n",
       "      <td>5</td>\n",
       "      <td>0.2180</td>\n",
       "      <td>1</td>\n",
       "      <td>...</td>\n",
       "      <td>0</td>\n",
       "      <td>1</td>\n",
       "      <td>0</td>\n",
       "      <td>0</td>\n",
       "      <td>0</td>\n",
       "      <td>0</td>\n",
       "      <td>0</td>\n",
       "      <td>1</td>\n",
       "      <td>0</td>\n",
       "      <td>0</td>\n",
       "      <td>0</td>\n",
       "      <td>0</td>\n",
       "      <td>1</td>\n",
       "      <td>0</td>\n",
       "      <td>0</td>\n",
       "    </tr>\n",
       "    <tr>\n",
       "      <th>3</th>\n",
       "      <td>0.595</td>\n",
       "      <td>0.480</td>\n",
       "      <td>0.150</td>\n",
       "      <td>1.1100</td>\n",
       "      <td>0.4980</td>\n",
       "      <td>0.2280</td>\n",
       "      <td>0.3300</td>\n",
       "      <td>0.28560</td>\n",
       "      <td>77.731092</td>\n",
       "      <td>False</td>\n",
       "      <td>2</td>\n",
       "      <td>22</td>\n",
       "      <td>5</td>\n",
       "      <td>0.2180</td>\n",
       "      <td>0</td>\n",
       "      <td>...</td>\n",
       "      <td>0</td>\n",
       "      <td>0</td>\n",
       "      <td>0</td>\n",
       "      <td>0</td>\n",
       "      <td>1</td>\n",
       "      <td>0</td>\n",
       "      <td>1</td>\n",
       "      <td>0</td>\n",
       "      <td>0</td>\n",
       "      <td>0</td>\n",
       "      <td>0</td>\n",
       "      <td>0</td>\n",
       "      <td>1</td>\n",
       "      <td>0</td>\n",
       "      <td>0</td>\n",
       "    </tr>\n",
       "    <tr>\n",
       "      <th>4</th>\n",
       "      <td>0.480</td>\n",
       "      <td>0.390</td>\n",
       "      <td>0.145</td>\n",
       "      <td>0.5825</td>\n",
       "      <td>0.2315</td>\n",
       "      <td>0.1210</td>\n",
       "      <td>0.2550</td>\n",
       "      <td>0.18720</td>\n",
       "      <td>62.232906</td>\n",
       "      <td>False</td>\n",
       "      <td>12</td>\n",
       "      <td>19</td>\n",
       "      <td>5</td>\n",
       "      <td>0.2180</td>\n",
       "      <td>0</td>\n",
       "      <td>...</td>\n",
       "      <td>0</td>\n",
       "      <td>0</td>\n",
       "      <td>0</td>\n",
       "      <td>0</td>\n",
       "      <td>0</td>\n",
       "      <td>1</td>\n",
       "      <td>0</td>\n",
       "      <td>0</td>\n",
       "      <td>0</td>\n",
       "      <td>0</td>\n",
       "      <td>0</td>\n",
       "      <td>0</td>\n",
       "      <td>0</td>\n",
       "      <td>1</td>\n",
       "      <td>0</td>\n",
       "    </tr>\n",
       "    <tr>\n",
       "      <th>...</th>\n",
       "      <td>...</td>\n",
       "      <td>...</td>\n",
       "      <td>...</td>\n",
       "      <td>...</td>\n",
       "      <td>...</td>\n",
       "      <td>...</td>\n",
       "      <td>...</td>\n",
       "      <td>...</td>\n",
       "      <td>...</td>\n",
       "      <td>...</td>\n",
       "      <td>...</td>\n",
       "      <td>...</td>\n",
       "      <td>...</td>\n",
       "      <td>...</td>\n",
       "      <td>...</td>\n",
       "      <td>...</td>\n",
       "      <td>...</td>\n",
       "      <td>...</td>\n",
       "      <td>...</td>\n",
       "      <td>...</td>\n",
       "      <td>...</td>\n",
       "      <td>...</td>\n",
       "      <td>...</td>\n",
       "      <td>...</td>\n",
       "      <td>...</td>\n",
       "      <td>...</td>\n",
       "      <td>...</td>\n",
       "      <td>...</td>\n",
       "      <td>...</td>\n",
       "      <td>...</td>\n",
       "      <td>...</td>\n",
       "    </tr>\n",
       "    <tr>\n",
       "      <th>5695</th>\n",
       "      <td>0.640</td>\n",
       "      <td>0.510</td>\n",
       "      <td>0.175</td>\n",
       "      <td>1.3680</td>\n",
       "      <td>0.5150</td>\n",
       "      <td>0.2660</td>\n",
       "      <td>0.5700</td>\n",
       "      <td>0.32640</td>\n",
       "      <td>83.823529</td>\n",
       "      <td>False</td>\n",
       "      <td>5</td>\n",
       "      <td>12</td>\n",
       "      <td>1</td>\n",
       "      <td>0.2290</td>\n",
       "      <td>0</td>\n",
       "      <td>...</td>\n",
       "      <td>0</td>\n",
       "      <td>0</td>\n",
       "      <td>0</td>\n",
       "      <td>0</td>\n",
       "      <td>0</td>\n",
       "      <td>0</td>\n",
       "      <td>1</td>\n",
       "      <td>0</td>\n",
       "      <td>0</td>\n",
       "      <td>0</td>\n",
       "      <td>0</td>\n",
       "      <td>0</td>\n",
       "      <td>0</td>\n",
       "      <td>0</td>\n",
       "      <td>1</td>\n",
       "    </tr>\n",
       "    <tr>\n",
       "      <th>5696</th>\n",
       "      <td>0.565</td>\n",
       "      <td>0.440</td>\n",
       "      <td>0.175</td>\n",
       "      <td>0.8735</td>\n",
       "      <td>0.4140</td>\n",
       "      <td>0.2100</td>\n",
       "      <td>0.2100</td>\n",
       "      <td>0.24860</td>\n",
       "      <td>70.273532</td>\n",
       "      <td>False</td>\n",
       "      <td>12</td>\n",
       "      <td>15</td>\n",
       "      <td>1</td>\n",
       "      <td>0.2290</td>\n",
       "      <td>0</td>\n",
       "      <td>...</td>\n",
       "      <td>0</td>\n",
       "      <td>1</td>\n",
       "      <td>0</td>\n",
       "      <td>0</td>\n",
       "      <td>0</td>\n",
       "      <td>0</td>\n",
       "      <td>1</td>\n",
       "      <td>0</td>\n",
       "      <td>0</td>\n",
       "      <td>0</td>\n",
       "      <td>0</td>\n",
       "      <td>0</td>\n",
       "      <td>0</td>\n",
       "      <td>1</td>\n",
       "      <td>0</td>\n",
       "    </tr>\n",
       "    <tr>\n",
       "      <th>5697</th>\n",
       "      <td>0.385</td>\n",
       "      <td>0.290</td>\n",
       "      <td>0.090</td>\n",
       "      <td>0.2615</td>\n",
       "      <td>0.1110</td>\n",
       "      <td>0.0595</td>\n",
       "      <td>0.0745</td>\n",
       "      <td>0.11165</td>\n",
       "      <td>46.842812</td>\n",
       "      <td>False</td>\n",
       "      <td>12</td>\n",
       "      <td>6</td>\n",
       "      <td>6</td>\n",
       "      <td>0.2215</td>\n",
       "      <td>0</td>\n",
       "      <td>...</td>\n",
       "      <td>1</td>\n",
       "      <td>0</td>\n",
       "      <td>0</td>\n",
       "      <td>0</td>\n",
       "      <td>0</td>\n",
       "      <td>0</td>\n",
       "      <td>0</td>\n",
       "      <td>0</td>\n",
       "      <td>0</td>\n",
       "      <td>1</td>\n",
       "      <td>0</td>\n",
       "      <td>0</td>\n",
       "      <td>0</td>\n",
       "      <td>1</td>\n",
       "      <td>0</td>\n",
       "    </tr>\n",
       "    <tr>\n",
       "      <th>5698</th>\n",
       "      <td>0.600</td>\n",
       "      <td>0.475</td>\n",
       "      <td>0.175</td>\n",
       "      <td>1.1100</td>\n",
       "      <td>0.5105</td>\n",
       "      <td>0.2560</td>\n",
       "      <td>0.2850</td>\n",
       "      <td>0.28500</td>\n",
       "      <td>77.894737</td>\n",
       "      <td>False</td>\n",
       "      <td>1</td>\n",
       "      <td>1</td>\n",
       "      <td>2</td>\n",
       "      <td>0.2280</td>\n",
       "      <td>0</td>\n",
       "      <td>...</td>\n",
       "      <td>0</td>\n",
       "      <td>1</td>\n",
       "      <td>0</td>\n",
       "      <td>0</td>\n",
       "      <td>0</td>\n",
       "      <td>0</td>\n",
       "      <td>0</td>\n",
       "      <td>1</td>\n",
       "      <td>0</td>\n",
       "      <td>0</td>\n",
       "      <td>0</td>\n",
       "      <td>0</td>\n",
       "      <td>0</td>\n",
       "      <td>0</td>\n",
       "      <td>1</td>\n",
       "    </tr>\n",
       "    <tr>\n",
       "      <th>5699</th>\n",
       "      <td>0.565</td>\n",
       "      <td>0.440</td>\n",
       "      <td>0.135</td>\n",
       "      <td>0.8300</td>\n",
       "      <td>0.3930</td>\n",
       "      <td>0.1735</td>\n",
       "      <td>0.2380</td>\n",
       "      <td>0.24860</td>\n",
       "      <td>66.773934</td>\n",
       "      <td>False</td>\n",
       "      <td>1</td>\n",
       "      <td>19</td>\n",
       "      <td>6</td>\n",
       "      <td>0.2215</td>\n",
       "      <td>1</td>\n",
       "      <td>...</td>\n",
       "      <td>0</td>\n",
       "      <td>0</td>\n",
       "      <td>0</td>\n",
       "      <td>1</td>\n",
       "      <td>0</td>\n",
       "      <td>0</td>\n",
       "      <td>0</td>\n",
       "      <td>0</td>\n",
       "      <td>0</td>\n",
       "      <td>1</td>\n",
       "      <td>0</td>\n",
       "      <td>0</td>\n",
       "      <td>1</td>\n",
       "      <td>0</td>\n",
       "      <td>0</td>\n",
       "    </tr>\n",
       "  </tbody>\n",
       "</table>\n",
       "<p>4180 rows × 44 columns</p>\n",
       "</div>"
      ],
      "text/plain": [
       "      Length   Diam  Height  Whole_weight  Shucke_weight  Viscera_weight  \\\n",
       "0      0.450  0.350   0.130        0.5470         0.2450          0.1405   \n",
       "1      0.500  0.375   0.140        0.6040         0.2420          0.1415   \n",
       "2      0.520  0.415   0.145        0.8045         0.3325          0.1725   \n",
       "3      0.595  0.480   0.150        1.1100         0.4980          0.2280   \n",
       "4      0.480  0.390   0.145        0.5825         0.2315          0.1210   \n",
       "...      ...    ...     ...           ...            ...             ...   \n",
       "5695   0.640  0.510   0.175        1.3680         0.5150          0.2660   \n",
       "5696   0.565  0.440   0.175        0.8735         0.4140          0.2100   \n",
       "5697   0.385  0.290   0.090        0.2615         0.1110          0.0595   \n",
       "5698   0.600  0.475   0.175        1.1100         0.5105          0.2560   \n",
       "5699   0.565  0.440   0.135        0.8300         0.3930          0.1735   \n",
       "\n",
       "      Shell_weight     area    density  high_class  month  day  weekday  \\\n",
       "0           0.1405  0.15750  69.460317       False      6   21        6   \n",
       "1           0.1790  0.18750  64.426667       False      3    8        6   \n",
       "2           0.2850  0.21580  74.559778       False      2   22        5   \n",
       "3           0.3300  0.28560  77.731092       False      2   22        5   \n",
       "4           0.2550  0.18720  62.232906       False     12   19        5   \n",
       "...            ...      ...        ...         ...    ...  ...      ...   \n",
       "5695        0.5700  0.32640  83.823529       False      5   12        1   \n",
       "5696        0.2100  0.24860  70.273532       False     12   15        1   \n",
       "5697        0.0745  0.11165  46.842812       False     12    6        6   \n",
       "5698        0.2850  0.28500  77.894737       False      1    1        2   \n",
       "5699        0.2380  0.24860  66.773934       False      1   19        6   \n",
       "\n",
       "      shell_by_weekday  FN_Baby  ...  SN_Flow  SN_Full  SN_Glam  SN_Glock  \\\n",
       "0               0.2215        0  ...        0        0        0         0   \n",
       "1               0.2215        0  ...        0        0        1         0   \n",
       "2               0.2180        1  ...        0        1        0         0   \n",
       "3               0.2180        0  ...        0        0        0         0   \n",
       "4               0.2180        0  ...        0        0        0         0   \n",
       "...                ...      ...  ...      ...      ...      ...       ...   \n",
       "5695            0.2290        0  ...        0        0        0         0   \n",
       "5696            0.2290        0  ...        0        1        0         0   \n",
       "5697            0.2215        0  ...        1        0        0         0   \n",
       "5698            0.2280        0  ...        0        1        0         0   \n",
       "5699            0.2215        1  ...        0        0        0         1   \n",
       "\n",
       "      SN_Rock  LN_Death  LN_Head  LN_Killer  LN_Kitty  LN_Machine  LN_Man  \\\n",
       "0           0         0        0          0         0           1       0   \n",
       "1           0         0        0          0         0           1       0   \n",
       "2           0         0        0          1         0           0       0   \n",
       "3           1         0        1          0         0           0       0   \n",
       "4           0         1        0          0         0           0       0   \n",
       "...       ...       ...      ...        ...       ...         ...     ...   \n",
       "5695        0         0        1          0         0           0       0   \n",
       "5696        0         0        1          0         0           0       0   \n",
       "5697        0         0        0          0         0           1       0   \n",
       "5698        0         0        0          1         0           0       0   \n",
       "5699        0         0        0          0         0           1       0   \n",
       "\n",
       "      LN_Master  Sex_F  Sex_I  Sex_M  \n",
       "0             0      0      1      0  \n",
       "1             0      1      0      0  \n",
       "2             0      1      0      0  \n",
       "3             0      1      0      0  \n",
       "4             0      0      1      0  \n",
       "...         ...    ...    ...    ...  \n",
       "5695          0      0      0      1  \n",
       "5696          0      0      1      0  \n",
       "5697          0      0      1      0  \n",
       "5698          0      0      0      1  \n",
       "5699          0      1      0      0  \n",
       "\n",
       "[4180 rows x 44 columns]"
      ]
     },
     "execution_count": 109,
     "metadata": {},
     "output_type": "execute_result"
    }
   ],
   "source": [
    "Xdf"
   ]
  },
  {
   "cell_type": "code",
   "execution_count": null,
   "metadata": {},
   "outputs": [],
   "source": []
  },
  {
   "cell_type": "code",
   "execution_count": 110,
   "metadata": {},
   "outputs": [],
   "source": [
    "# !pip install sklearn"
   ]
  },
  {
   "cell_type": "code",
   "execution_count": 111,
   "metadata": {
    "id": "hdLqDhuCYO1Z"
   },
   "outputs": [],
   "source": [
    "# Q22 Split your data into train and test parts.\n",
    "# How many records (rows) do you have in train and test tables? (list of int)?\n",
    "# Use sklearn.model_selection.train_test_split with test_size=0.33 and random_state=7\n",
    "\n",
    "from sklearn.model_selection import train_test_split\n",
    "\n",
    "X_train, X_test, y_train, y_test = train_test_split(X, Y, test_size=0.33, shuffle=True, random_state=7)"
   ]
  },
  {
   "cell_type": "code",
   "execution_count": 112,
   "metadata": {},
   "outputs": [
    {
     "data": {
      "text/plain": [
       "((2800, 44), (1380, 44), (2800,), (1380,))"
      ]
     },
     "execution_count": 112,
     "metadata": {},
     "output_type": "execute_result"
    }
   ],
   "source": [
    "X_train.shape, X_test.shape, y_train.shape, y_test.shape"
   ]
  },
  {
   "cell_type": "code",
   "execution_count": null,
   "metadata": {},
   "outputs": [],
   "source": []
  },
  {
   "cell_type": "code",
   "execution_count": null,
   "metadata": {},
   "outputs": [],
   "source": []
  },
  {
   "cell_type": "code",
   "execution_count": 113,
   "metadata": {
    "id": "xqubzK5rYQA9"
   },
   "outputs": [],
   "source": [
    "# Fit predictive regression models.\n",
    "\n",
    "# Q23.1 Use linear regression with l2 regularization (Ridge regression)\n",
    "# Q23.2 Use decision tree regression\n",
    "# Q23.3 Use k nearest neighbours regression"
   ]
  },
  {
   "cell_type": "code",
   "execution_count": 114,
   "metadata": {},
   "outputs": [],
   "source": [
    "from sklearn.linear_model import Ridge\n",
    "from sklearn.tree import DecisionTreeRegressor\n",
    "from sklearn.preprocessing import StandardScaler\n",
    "from sklearn.pipeline import make_pipeline\n",
    "from sklearn.model_selection import GridSearchCV, KFold\n",
    "from sklearn.metrics import mean_squared_error as mse\n"
   ]
  },
  {
   "cell_type": "code",
   "execution_count": 115,
   "metadata": {},
   "outputs": [],
   "source": [
    "alpha = 1\n",
    "depth = 5\n",
    "ridge_reg = make_pipeline(StandardScaler(), Ridge())\n",
    "tree_reg = DecisionTreeRegressor()\n",
    "\n",
    "\n",
    "ridge_reg.fit(X_train, y_train)\n",
    "tree_reg.fit(X_train, y_train);"
   ]
  },
  {
   "cell_type": "code",
   "execution_count": null,
   "metadata": {},
   "outputs": [],
   "source": []
  },
  {
   "cell_type": "code",
   "execution_count": null,
   "metadata": {},
   "outputs": [],
   "source": []
  },
  {
   "cell_type": "code",
   "execution_count": 116,
   "metadata": {
    "id": "7uWxRty0YSBd"
   },
   "outputs": [],
   "source": [
    "# Use grid search to select optimal hyperparamters of your models.\n",
    "\n",
    "### Q24.1 Alpha for a ridge regression\n",
    "### Q24.2 Depth for the tree\n",
    "# Q24.3 Number of neighbours for the knn"
   ]
  },
  {
   "cell_type": "code",
   "execution_count": 117,
   "metadata": {},
   "outputs": [],
   "source": [
    "def best_estimator(estimator, params, X, y, drow_plot=False, cv=KFold(n_splits=5), title_suffix=''):\n",
    "    clf = GridSearchCV(estimator, params, cv=cv, scoring='neg_mean_squared_error', n_jobs=-1, refit=True)\n",
    "    clf.fit(X, y)\n",
    "    if drow_plot:\n",
    "        param = list(params.keys())[0]\n",
    "        plt.figure(figsize=(12, 6))\n",
    "        plt.title(f\"{estimator}\")\n",
    "        plt.xlabel(f\"{param}\")\n",
    "        plt.ylabel(\"mean test mse score\")\n",
    "        plt.scatter(params[param], clf.cv_results_['mean_test_score'], color=\"red\", label=\"mean_test_score\", )\n",
    "        plt.grid(ls=\":\")\n",
    "        plt.legend(loc=\"best\")\n",
    "        plt.show()\n",
    "#     print(clf.cv_results_)\n",
    "    print(f'Best params: {clf.best_params_}')\n",
    "    print(f'Best score: {clf.best_score_}')\n",
    "    return clf.best_estimator_, clf.best_params_"
   ]
  },
  {
   "cell_type": "markdown",
   "metadata": {},
   "source": [
    "### Q24.1"
   ]
  },
  {
   "cell_type": "code",
   "execution_count": 118,
   "metadata": {},
   "outputs": [
    {
     "data": {
      "text/plain": [
       "dict_keys(['memory', 'steps', 'verbose', 'standardscaler', 'ridge', 'standardscaler__copy', 'standardscaler__with_mean', 'standardscaler__with_std', 'ridge__alpha', 'ridge__copy_X', 'ridge__fit_intercept', 'ridge__max_iter', 'ridge__normalize', 'ridge__positive', 'ridge__random_state', 'ridge__solver', 'ridge__tol'])"
      ]
     },
     "execution_count": 118,
     "metadata": {},
     "output_type": "execute_result"
    }
   ],
   "source": [
    "ridge_reg.get_params().keys()"
   ]
  },
  {
   "cell_type": "code",
   "execution_count": 119,
   "metadata": {
    "scrolled": false
   },
   "outputs": [
    {
     "data": {
      "image/png": "[encoded data removed]",
      "text/plain": [
       "<Figure size 864x432 with 1 Axes>"
      ]
     },
     "metadata": {
      "needs_background": "light"
     },
     "output_type": "display_data"
    },
    {
     "name": "stdout",
     "output_type": "stream",
     "text": [
      "Best params: {'ridge__alpha': 0.38389999999999996}\n",
      "Best score: -4.772032959672956\n"
     ]
    }
   ],
   "source": [
    "params = {\n",
    "    'ridge__alpha': np.linspace(0.0001, 1, 100)\n",
    "}\n",
    "best_reg, best_params = best_estimator(ridge_reg, params, X, Y, drow_plot=True)"
   ]
  },
  {
   "cell_type": "code",
   "execution_count": 120,
   "metadata": {},
   "outputs": [
    {
     "data": {
      "text/plain": [
       "dict_keys(['ccp_alpha', 'criterion', 'max_depth', 'max_features', 'max_leaf_nodes', 'min_impurity_decrease', 'min_samples_leaf', 'min_samples_split', 'min_weight_fraction_leaf', 'random_state', 'splitter'])"
      ]
     },
     "execution_count": 120,
     "metadata": {},
     "output_type": "execute_result"
    }
   ],
   "source": [
    "tree_reg.get_params().keys()"
   ]
  },
  {
   "cell_type": "markdown",
   "metadata": {},
   "source": [
    "### Q24.2"
   ]
  },
  {
   "cell_type": "code",
   "execution_count": 121,
   "metadata": {},
   "outputs": [
    {
     "data": {
      "image/png": "[encoded data removed]",
      "text/plain": [
       "<Figure size 864x432 with 1 Axes>"
      ]
     },
     "metadata": {
      "needs_background": "light"
     },
     "output_type": "display_data"
    },
    {
     "name": "stdout",
     "output_type": "stream",
     "text": [
      "Best params: {'max_depth': 5.0}\n",
      "Best score: -5.3591440266344765\n"
     ]
    }
   ],
   "source": [
    "params = {\n",
    "    'max_depth': np.linspace(1, 50, 50)\n",
    "}\n",
    "best_tree, best_params = best_estimator(tree_reg, params, X, Y, drow_plot=True)"
   ]
  },
  {
   "cell_type": "code",
   "execution_count": null,
   "metadata": {},
   "outputs": [],
   "source": []
  },
  {
   "cell_type": "code",
   "execution_count": 122,
   "metadata": {
    "id": "IVihHjlpYTrB"
   },
   "outputs": [],
   "source": [
    "# Compute train and test mean squared error for your best models (list of float).\n",
    "\n",
    "# Q25.1 Train, test MSE using linear regression with l2 regularization\n",
    "# Q25.2 Train, test MSE using decision tree regression\n",
    "# Q25.3 Train, test MSE using k nearest neighbours regression\n",
    "\n",
    "from sklearn.metrics import mean_squared_error as mse"
   ]
  },
  {
   "cell_type": "code",
   "execution_count": 123,
   "metadata": {},
   "outputs": [],
   "source": [
    "y_pred_reg_test = best_reg.predict(X_test)\n",
    "y_pred_tree_test = best_tree.predict(X_test)\n",
    "\n",
    "y_pred_reg_train = best_reg.predict(X_train)\n",
    "y_pred_tree_train = best_tree.predict(X_train)"
   ]
  },
  {
   "cell_type": "code",
   "execution_count": 124,
   "metadata": {},
   "outputs": [
    {
     "name": "stdout",
     "output_type": "stream",
     "text": [
      "Ridge MSE test: 4.747609704565122 \n",
      "Tree MSE test: 5.150779238891319\n"
     ]
    }
   ],
   "source": [
    "print('Ridge MSE test:', mse(y_pred_reg_test, y_test),\n",
    "      '\\nTree MSE test:', mse(y_pred_tree_test, y_test))"
   ]
  },
  {
   "cell_type": "code",
   "execution_count": 125,
   "metadata": {},
   "outputs": [
    {
     "name": "stdout",
     "output_type": "stream",
     "text": [
      "Ridge MSE train: 4.56992989253409 \n",
      "Tree MSE train: 4.46609226996062\n"
     ]
    }
   ],
   "source": [
    "print('Ridge MSE train:', mse(y_pred_reg_train, y_train),\n",
    "      '\\nTree MSE train:', mse(y_pred_tree_train, y_train))"
   ]
  },
  {
   "cell_type": "code",
   "execution_count": null,
   "metadata": {},
   "outputs": [],
   "source": []
  },
  {
   "cell_type": "code",
   "execution_count": null,
   "metadata": {},
   "outputs": [],
   "source": []
  },
  {
   "cell_type": "code",
   "execution_count": 126,
   "metadata": {
    "id": "jqwSIwVmYVZ6"
   },
   "outputs": [],
   "source": [
    "# Compute train and test R^2 for your best models (list of float).\n",
    "\n",
    "# Q26.1 Train, test R^2 using linear regression with l2 regularization\n",
    "# Q26.2 Train, test R^2 using decision tree regression\n",
    "# Q26.3 Train, test R^2 using k nearest neighbours regression\n",
    "\n",
    "from scipy.stats import pearsonr\n",
    "from sklearn.metrics import r2_score"
   ]
  },
  {
   "cell_type": "code",
   "execution_count": 127,
   "metadata": {},
   "outputs": [
    {
     "name": "stdout",
     "output_type": "stream",
     "text": [
      "ridge pearson test: 0.7334066170898317\n",
      "tree pearson test: 0.7067136271242886\n",
      "ridge pearson train: 0.7500096419784341\n",
      "tree pearson train: 0.7567385875810341\n"
     ]
    }
   ],
   "source": [
    "print('ridge pearson test:', pearsonr(y_pred_reg_test, y_test)[0])\n",
    "print('tree pearson test:', pearsonr(y_pred_tree_test, y_test)[0])\n",
    "\n",
    "print('ridge pearson train:', pearsonr(y_pred_reg_train, y_train)[0])\n",
    "print('tree pearson train:', pearsonr(y_pred_tree_train, y_train)[0])"
   ]
  },
  {
   "cell_type": "code",
   "execution_count": 128,
   "metadata": {},
   "outputs": [
    {
     "name": "stdout",
     "output_type": "stream",
     "text": [
      "ridge R^2 test: 0.12851456202868283\n",
      "tree R^2 test: 0.04569841067038505\n",
      "ridge R^2 train: 0.2250717020905757\n",
      "tree R^2 train: 0.23574392323718152\n"
     ]
    }
   ],
   "source": [
    "print('ridge R^2 test:', r2_score(y_pred_reg_test, y_test))\n",
    "print('tree R^2 test:', r2_score(y_pred_tree_test, y_test))\n",
    "\n",
    "print('ridge R^2 train:', r2_score(y_pred_reg_train, y_train))\n",
    "print('tree R^2 train:', r2_score(y_pred_tree_train, y_train))"
   ]
  },
  {
   "cell_type": "code",
   "execution_count": 129,
   "metadata": {
    "id": "qO3zWCyHYXQo"
   },
   "outputs": [],
   "source": [
    "# Q27 Which features have largest (by absolute value) weight in your linear model (top 5 features)? (list of str)."
   ]
  },
  {
   "cell_type": "code",
   "execution_count": 130,
   "metadata": {},
   "outputs": [
    {
     "name": "stdout",
     "output_type": "stream",
     "text": [
      "Whole_weight 4.670719440131367\n",
      "Shucke_weight -4.096812029401302\n",
      "area -3.311188652847155\n",
      "Diam 2.479779663700677\n",
      "Shell_weight 1.564250675086867\n"
     ]
    }
   ],
   "source": [
    "n_top = 5\n",
    "idx_sorted = np.argsort(np.abs(best_reg[1].coef_))[::-1][:n_top]\n",
    "\n",
    "for w, f in zip(best_reg[1].coef_[idx_sorted], Xdf.columns[idx_sorted]):\n",
    "    print(f, w)"
   ]
  },
  {
   "cell_type": "markdown",
   "metadata": {
    "id": "9G_LlOHofTJp"
   },
   "source": [
    "# Make sure your .ipynb is linearly executable     \n",
    "# Kernel -> Restart & Run All -> No ERROR cells"
   ]
  }
 ],
 "metadata": {
  "colab": {
   "collapsed_sections": [],
   "name": "Homework1_clean.ipynb",
   "provenance": []
  },
  "kernelspec": {
   "display_name": "Python 3 (ipykernel)",
   "language": "python",
   "name": "python3"
  },
  "language_info": {
   "codemirror_mode": {
    "name": "ipython",
    "version": 3
   },
   "file_extension": ".py",
   "mimetype": "text/x-python",
   "name": "python",
   "nbconvert_exporter": "python",
   "pygments_lexer": "ipython3",
   "version": "3.9.7"
  }
 },
 "nbformat": 4,
 "nbformat_minor": 1
}
